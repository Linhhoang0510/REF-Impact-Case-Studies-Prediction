{
 "cells": [
  {
   "cell_type": "markdown",
   "metadata": {},
   "source": [
    "# Part 1: Impact Classification"
   ]
  },
  {
   "cell_type": "markdown",
   "metadata": {},
   "source": [
    "## 1. Load files and combine data"
   ]
  },
  {
   "cell_type": "code",
   "execution_count": 1,
   "metadata": {},
   "outputs": [],
   "source": [
    "# Import libraries\n",
    "\n",
    "import nltk\n",
    "import spacy\n",
    "nlp = spacy.load('en_core_web_sm')\n",
    "import pandas as pd\n",
    "import markdown\n",
    "import re\n",
    "from sklearn.metrics import confusion_matrix, accuracy_score, f1_score, precision_score, recall_score, classification_report\n",
    "import seaborn as sns\n",
    "import matplotlib.pyplot as plt\n",
    "from sklearn.model_selection import cross_val_score"
   ]
  },
  {
   "cell_type": "code",
   "execution_count": 2,
   "metadata": {},
   "outputs": [],
   "source": [
    "# Define a function to get and merge REF impact data\n",
    "\n",
    "def data_merge(star):\n",
    "    \n",
    "    # # Load the All REF Results Dataset into a DataFrame\n",
    "    score_df = pd.read_csv(r\"REF-2021-results.csv\")\n",
    "    \n",
    "    # Filter the dataset to include only 'Impact' profiles with a rating of 100% in the specified column (indicated by 'star')\n",
    "    impact_score_df = score_df[(score_df['Profile'] == 'Impact') & (score_df[star] == '100')].reset_index(drop = True)\n",
    "    \n",
    "    # Remove unnecessary columns\n",
    "    impact_score_df.drop(columns = ['Multiple submission letter', 'Multiple submission name', 'Joint submission', 'FTE of submitted staff',\n",
    "                          'Total FTE of submitted staff for joint submission', '% of eligible staff submitted',\n",
    "                          \"Institution sort order\", 'Institution name', 'Main panel', 'Unit of assessment name'], inplace = True)\n",
    "    \n",
    "    # Rename columns for future merge\n",
    "    impact_score_df.rename(columns = {'Institution code (UKPRN)' : 'Institution UKPRN code'}, inplace = True)\n",
    "    \n",
    "    # Load the Impact Case Study Dataset into a DataFrame\n",
    "    paper_df = pd.read_csv(r'REF-2021-impactcase.csv')\n",
    "    \n",
    "    # Retain nessary columns\n",
    "    paper_df = paper_df[['Institution UKPRN code', 'Institution name', 'Main panel','Unit of assessment number',\n",
    "                     'Unit of assessment name', 'Title', '1. Summary of the impact', '2. Underpinning research', \n",
    "                     '3. References to the research', '4. Details of the impact', '5. Sources to corroborate the impact']]\n",
    "    \n",
    "    # Make sure column names for merging are string type\n",
    "    impact_score_df['Institution UKPRN code'] = impact_score_df['Institution UKPRN code'].astype('str')\n",
    "    paper_df['Institution UKPRN code'] = paper_df['Institution UKPRN code'].astype('str')\n",
    "    \n",
    "    # Merge 2 dataframes into a new one\n",
    "    newdf = paper_df.merge(impact_score_df, how = 'inner', on = ['Institution UKPRN code', 'Unit of assessment number']).reset_index(drop = True)\n",
    "    \n",
    "    # Keep necessary columns\n",
    "    newdf = newdf[['Title', '1. Summary of the impact', '4. Details of the impact', star]]\n",
    "    \n",
    "    # Update the 'star' column to reflect the rating score\n",
    "    newdf[star] = star\n",
    "    \n",
    "    # Remove asterisk to create a category for each rating score\n",
    "    newdf[star] = newdf[star].str.replace('*', '', regex=False)\n",
    "    \n",
    "    # Rename the 'star' column to 'score'\n",
    "    newdf = newdf.rename(columns = {star : 'score'})\n",
    "    \n",
    "    return newdf"
   ]
  },
  {
   "cell_type": "code",
   "execution_count": 3,
   "metadata": {},
   "outputs": [
    {
     "name": "stdout",
     "output_type": "stream",
     "text": [
      "22\n",
      "108\n",
      "258\n"
     ]
    }
   ],
   "source": [
    "df2 = data_merge('2*') # Get impact case studies with a rating of 2*\n",
    "df3 = data_merge('3*') # Get impact case studies with a rating of 3*\n",
    "df4 = data_merge('4*') # Get impact case studies with a rating of 4*\n",
    "\n",
    "# Check the length of each dataframe\n",
    "print(len(df2))\n",
    "print(len(df3))\n",
    "print(len(df4))"
   ]
  },
  {
   "cell_type": "code",
   "execution_count": 4,
   "metadata": {},
   "outputs": [
    {
     "data": {
      "text/html": [
       "<div>\n",
       "<style scoped>\n",
       "    .dataframe tbody tr th:only-of-type {\n",
       "        vertical-align: middle;\n",
       "    }\n",
       "\n",
       "    .dataframe tbody tr th {\n",
       "        vertical-align: top;\n",
       "    }\n",
       "\n",
       "    .dataframe thead th {\n",
       "        text-align: right;\n",
       "    }\n",
       "</style>\n",
       "<table border=\"1\" class=\"dataframe\">\n",
       "  <thead>\n",
       "    <tr style=\"text-align: right;\">\n",
       "      <th></th>\n",
       "      <th>Title</th>\n",
       "      <th>1. Summary of the impact</th>\n",
       "      <th>4. Details of the impact</th>\n",
       "      <th>score</th>\n",
       "    </tr>\n",
       "  </thead>\n",
       "  <tbody>\n",
       "    <tr>\n",
       "      <th>0</th>\n",
       "      <td>Carnival Cultures: Deepening Understanding and...</td>\n",
       "      <td>###  1. Summary of the impact \\(indicative max...</td>\n",
       "      <td>###  4. Details of the impact \\(indicative max...</td>\n",
       "      <td>2</td>\n",
       "    </tr>\n",
       "    <tr>\n",
       "      <th>1</th>\n",
       "      <td>Naming Adult Autism</td>\n",
       "      <td>###  1. Summary of the impact \\(indicative max...</td>\n",
       "      <td>###  4. Details of the impact \\(indicative max...</td>\n",
       "      <td>2</td>\n",
       "    </tr>\n",
       "    <tr>\n",
       "      <th>2</th>\n",
       "      <td>Changing the Media Narrative and Public Unders...</td>\n",
       "      <td>###  1. Summary of the impact \\n\\n Professor T...</td>\n",
       "      <td>###  4. Details of the impact \\n\\n **Kay’s** r...</td>\n",
       "      <td>2</td>\n",
       "    </tr>\n",
       "    <tr>\n",
       "      <th>3</th>\n",
       "      <td>Improving rehabilitation and advances in inter...</td>\n",
       "      <td>###  1. Summary of the impact \\n\\n **Ribbans’*...</td>\n",
       "      <td>###  4. Details of the impact \\n\\n **Ribbans’*...</td>\n",
       "      <td>2</td>\n",
       "    </tr>\n",
       "    <tr>\n",
       "      <th>4</th>\n",
       "      <td>Changing the way that we view video games and ...</td>\n",
       "      <td>#  1. Summary of the impact \\n\\n Digital media...</td>\n",
       "      <td>#  4. Details of the impact \\n\\n Etchells’ wor...</td>\n",
       "      <td>2</td>\n",
       "    </tr>\n",
       "    <tr>\n",
       "      <th>...</th>\n",
       "      <td>...</td>\n",
       "      <td>...</td>\n",
       "      <td>...</td>\n",
       "      <td>...</td>\n",
       "    </tr>\n",
       "    <tr>\n",
       "      <th>383</th>\n",
       "      <td>Transforming the Understanding of Gender in Pr...</td>\n",
       "      <td>###  1. Summary of the impact \\n\\n Brown has t...</td>\n",
       "      <td>###  4. Details of the impact \\n\\n Gender\\-sen...</td>\n",
       "      <td>4</td>\n",
       "    </tr>\n",
       "    <tr>\n",
       "      <th>384</th>\n",
       "      <td>UoP24Athletes: Athletes in extreme environment...</td>\n",
       "      <td>###  1. Summary of the impact \\n\\n Exercise in...</td>\n",
       "      <td>###  4. Details of the impact \\n\\n Immersion i...</td>\n",
       "      <td>4</td>\n",
       "    </tr>\n",
       "    <tr>\n",
       "      <th>385</th>\n",
       "      <td>UoP24Water: Improving water safety: informing ...</td>\n",
       "      <td>###  1. Summary of the impact \\n\\n Drowning is...</td>\n",
       "      <td>###  4. Details of the impact \\n\\n ‘Respect th...</td>\n",
       "      <td>4</td>\n",
       "    </tr>\n",
       "    <tr>\n",
       "      <th>386</th>\n",
       "      <td>UoP24Workers: Protecting workers in arduous oc...</td>\n",
       "      <td>###  1. Summary of the impact \\n\\n Research fr...</td>\n",
       "      <td>###  4. Details of the impact \\n\\n Following c...</td>\n",
       "      <td>4</td>\n",
       "    </tr>\n",
       "    <tr>\n",
       "      <th>387</th>\n",
       "      <td>Using eye tracking research to improve trainin...</td>\n",
       "      <td>**1. Summary of the impact** \\(indicative maxi...</td>\n",
       "      <td>**4. Details of the impact** \\(indicative maxi...</td>\n",
       "      <td>4</td>\n",
       "    </tr>\n",
       "  </tbody>\n",
       "</table>\n",
       "<p>388 rows × 4 columns</p>\n",
       "</div>"
      ],
      "text/plain": [
       "                                                 Title  \\\n",
       "0    Carnival Cultures: Deepening Understanding and...   \n",
       "1                                  Naming Adult Autism   \n",
       "2    Changing the Media Narrative and Public Unders...   \n",
       "3    Improving rehabilitation and advances in inter...   \n",
       "4    Changing the way that we view video games and ...   \n",
       "..                                                 ...   \n",
       "383  Transforming the Understanding of Gender in Pr...   \n",
       "384  UoP24Athletes: Athletes in extreme environment...   \n",
       "385  UoP24Water: Improving water safety: informing ...   \n",
       "386  UoP24Workers: Protecting workers in arduous oc...   \n",
       "387  Using eye tracking research to improve trainin...   \n",
       "\n",
       "                              1. Summary of the impact  \\\n",
       "0    ###  1. Summary of the impact \\(indicative max...   \n",
       "1    ###  1. Summary of the impact \\(indicative max...   \n",
       "2    ###  1. Summary of the impact \\n\\n Professor T...   \n",
       "3    ###  1. Summary of the impact \\n\\n **Ribbans’*...   \n",
       "4    #  1. Summary of the impact \\n\\n Digital media...   \n",
       "..                                                 ...   \n",
       "383  ###  1. Summary of the impact \\n\\n Brown has t...   \n",
       "384  ###  1. Summary of the impact \\n\\n Exercise in...   \n",
       "385  ###  1. Summary of the impact \\n\\n Drowning is...   \n",
       "386  ###  1. Summary of the impact \\n\\n Research fr...   \n",
       "387  **1. Summary of the impact** \\(indicative maxi...   \n",
       "\n",
       "                              4. Details of the impact score  \n",
       "0    ###  4. Details of the impact \\(indicative max...     2  \n",
       "1    ###  4. Details of the impact \\(indicative max...     2  \n",
       "2    ###  4. Details of the impact \\n\\n **Kay’s** r...     2  \n",
       "3    ###  4. Details of the impact \\n\\n **Ribbans’*...     2  \n",
       "4    #  4. Details of the impact \\n\\n Etchells’ wor...     2  \n",
       "..                                                 ...   ...  \n",
       "383  ###  4. Details of the impact \\n\\n Gender\\-sen...     4  \n",
       "384  ###  4. Details of the impact \\n\\n Immersion i...     4  \n",
       "385  ###  4. Details of the impact \\n\\n ‘Respect th...     4  \n",
       "386  ###  4. Details of the impact \\n\\n Following c...     4  \n",
       "387  **4. Details of the impact** \\(indicative maxi...     4  \n",
       "\n",
       "[388 rows x 4 columns]"
      ]
     },
     "execution_count": 4,
     "metadata": {},
     "output_type": "execute_result"
    }
   ],
   "source": [
    "# Combine the DataFrames df2, df3, and df4 into a single DataFrame\n",
    "df = pd.concat([df2, df3, df4], ignore_index=True)\n",
    "\n",
    "df"
   ]
  },
  {
   "cell_type": "markdown",
   "metadata": {},
   "source": [
    "## 2. Data Pre-processing"
   ]
  },
  {
   "cell_type": "code",
   "execution_count": 5,
   "metadata": {},
   "outputs": [
    {
     "data": {
      "text/html": [
       "<div>\n",
       "<style scoped>\n",
       "    .dataframe tbody tr th:only-of-type {\n",
       "        vertical-align: middle;\n",
       "    }\n",
       "\n",
       "    .dataframe tbody tr th {\n",
       "        vertical-align: top;\n",
       "    }\n",
       "\n",
       "    .dataframe thead th {\n",
       "        text-align: right;\n",
       "    }\n",
       "</style>\n",
       "<table border=\"1\" class=\"dataframe\">\n",
       "  <thead>\n",
       "    <tr style=\"text-align: right;\">\n",
       "      <th></th>\n",
       "      <th>Title</th>\n",
       "      <th>1. Summary of the impact</th>\n",
       "      <th>4. Details of the impact</th>\n",
       "      <th>score</th>\n",
       "    </tr>\n",
       "  </thead>\n",
       "  <tbody>\n",
       "    <tr>\n",
       "      <th>183</th>\n",
       "      <td>Augmenting Audio Drama: innovation in the form...</td>\n",
       "      <td>###  1. Summary of the impact \\(indicative max...</td>\n",
       "      <td>###  4. Details of the impact \\(indicative max...</td>\n",
       "      <td>4</td>\n",
       "    </tr>\n",
       "    <tr>\n",
       "      <th>184</th>\n",
       "      <td>Augmenting Audio Drama: innovation in the form...</td>\n",
       "      <td>###  1. Summary of the impact \\(indicative max...</td>\n",
       "      <td>###  4. Details of the impact \\(indicative max...</td>\n",
       "      <td>4</td>\n",
       "    </tr>\n",
       "    <tr>\n",
       "      <th>185</th>\n",
       "      <td>Dance for Parkinson's: evidencing, developing ...</td>\n",
       "      <td>###  1. Summary of the impact \\(indicative max...</td>\n",
       "      <td>###  4. Details of the impact \\(indicative max...</td>\n",
       "      <td>4</td>\n",
       "    </tr>\n",
       "    <tr>\n",
       "      <th>186</th>\n",
       "      <td>Dance for Parkinson's: evidencing, developing ...</td>\n",
       "      <td>###  1. Summary of the impact \\(indicative max...</td>\n",
       "      <td>###  4. Details of the impact \\(indicative max...</td>\n",
       "      <td>4</td>\n",
       "    </tr>\n",
       "    <tr>\n",
       "      <th>187</th>\n",
       "      <td>Dancing with ageing, illness and loss through ...</td>\n",
       "      <td>###  1. Summary of the impact \\(indicative max...</td>\n",
       "      <td>###  4. Details of the impact \\(indicative max...</td>\n",
       "      <td>4</td>\n",
       "    </tr>\n",
       "    <tr>\n",
       "      <th>188</th>\n",
       "      <td>Dancing with ageing, illness and loss through ...</td>\n",
       "      <td>###  1. Summary of the impact \\(indicative max...</td>\n",
       "      <td>###  4. Details of the impact \\(indicative max...</td>\n",
       "      <td>4</td>\n",
       "    </tr>\n",
       "    <tr>\n",
       "      <th>189</th>\n",
       "      <td>Doing Time</td>\n",
       "      <td>###  1. Summary of the impact \\(indicative max...</td>\n",
       "      <td>###  4. Details of the impact \\(indicative max...</td>\n",
       "      <td>4</td>\n",
       "    </tr>\n",
       "    <tr>\n",
       "      <th>190</th>\n",
       "      <td>Doing Time</td>\n",
       "      <td>###  1. Summary of the impact \\(indicative max...</td>\n",
       "      <td>###  4. Details of the impact \\(indicative max...</td>\n",
       "      <td>4</td>\n",
       "    </tr>\n",
       "  </tbody>\n",
       "</table>\n",
       "</div>"
      ],
      "text/plain": [
       "                                                 Title  \\\n",
       "183  Augmenting Audio Drama: innovation in the form...   \n",
       "184  Augmenting Audio Drama: innovation in the form...   \n",
       "185  Dance for Parkinson's: evidencing, developing ...   \n",
       "186  Dance for Parkinson's: evidencing, developing ...   \n",
       "187  Dancing with ageing, illness and loss through ...   \n",
       "188  Dancing with ageing, illness and loss through ...   \n",
       "189                                         Doing Time   \n",
       "190                                         Doing Time   \n",
       "\n",
       "                              1. Summary of the impact  \\\n",
       "183  ###  1. Summary of the impact \\(indicative max...   \n",
       "184  ###  1. Summary of the impact \\(indicative max...   \n",
       "185  ###  1. Summary of the impact \\(indicative max...   \n",
       "186  ###  1. Summary of the impact \\(indicative max...   \n",
       "187  ###  1. Summary of the impact \\(indicative max...   \n",
       "188  ###  1. Summary of the impact \\(indicative max...   \n",
       "189  ###  1. Summary of the impact \\(indicative max...   \n",
       "190  ###  1. Summary of the impact \\(indicative max...   \n",
       "\n",
       "                              4. Details of the impact score  \n",
       "183  ###  4. Details of the impact \\(indicative max...     4  \n",
       "184  ###  4. Details of the impact \\(indicative max...     4  \n",
       "185  ###  4. Details of the impact \\(indicative max...     4  \n",
       "186  ###  4. Details of the impact \\(indicative max...     4  \n",
       "187  ###  4. Details of the impact \\(indicative max...     4  \n",
       "188  ###  4. Details of the impact \\(indicative max...     4  \n",
       "189  ###  4. Details of the impact \\(indicative max...     4  \n",
       "190  ###  4. Details of the impact \\(indicative max...     4  "
      ]
     },
     "execution_count": 5,
     "metadata": {},
     "output_type": "execute_result"
    }
   ],
   "source": [
    "# Check duplicates\n",
    "duplicates = df[df.duplicated(keep=False)]\n",
    "duplicates"
   ]
  },
  {
   "cell_type": "code",
   "execution_count": 6,
   "metadata": {},
   "outputs": [
    {
     "name": "stdout",
     "output_type": "stream",
     "text": [
      "384\n"
     ]
    }
   ],
   "source": [
    "# Remove duplicates\n",
    "df.drop_duplicates(inplace=True)\n",
    "\n",
    "df = df.reset_index(drop = True)\n",
    "\n",
    "print(len(df))"
   ]
  },
  {
   "cell_type": "code",
   "execution_count": 7,
   "metadata": {},
   "outputs": [
    {
     "data": {
      "text/html": [
       "<div>\n",
       "<style scoped>\n",
       "    .dataframe tbody tr th:only-of-type {\n",
       "        vertical-align: middle;\n",
       "    }\n",
       "\n",
       "    .dataframe tbody tr th {\n",
       "        vertical-align: top;\n",
       "    }\n",
       "\n",
       "    .dataframe thead th {\n",
       "        text-align: right;\n",
       "    }\n",
       "</style>\n",
       "<table border=\"1\" class=\"dataframe\">\n",
       "  <thead>\n",
       "    <tr style=\"text-align: right;\">\n",
       "      <th></th>\n",
       "      <th>Title</th>\n",
       "      <th>1. Summary of the impact</th>\n",
       "      <th>4. Details of the impact</th>\n",
       "      <th>score</th>\n",
       "    </tr>\n",
       "  </thead>\n",
       "  <tbody>\n",
       "    <tr>\n",
       "      <th>0</th>\n",
       "      <td>Carnival Cultures: Deepening Understanding and...</td>\n",
       "      <td>###  1. Summary of the impact \\(indicative max...</td>\n",
       "      <td>###  4. Details of the impact \\(indicative max...</td>\n",
       "      <td>0</td>\n",
       "    </tr>\n",
       "    <tr>\n",
       "      <th>1</th>\n",
       "      <td>Naming Adult Autism</td>\n",
       "      <td>###  1. Summary of the impact \\(indicative max...</td>\n",
       "      <td>###  4. Details of the impact \\(indicative max...</td>\n",
       "      <td>0</td>\n",
       "    </tr>\n",
       "    <tr>\n",
       "      <th>2</th>\n",
       "      <td>Changing the Media Narrative and Public Unders...</td>\n",
       "      <td>###  1. Summary of the impact \\n\\n Professor T...</td>\n",
       "      <td>###  4. Details of the impact \\n\\n **Kay’s** r...</td>\n",
       "      <td>0</td>\n",
       "    </tr>\n",
       "    <tr>\n",
       "      <th>3</th>\n",
       "      <td>Improving rehabilitation and advances in inter...</td>\n",
       "      <td>###  1. Summary of the impact \\n\\n **Ribbans’*...</td>\n",
       "      <td>###  4. Details of the impact \\n\\n **Ribbans’*...</td>\n",
       "      <td>0</td>\n",
       "    </tr>\n",
       "    <tr>\n",
       "      <th>4</th>\n",
       "      <td>Changing the way that we view video games and ...</td>\n",
       "      <td>#  1. Summary of the impact \\n\\n Digital media...</td>\n",
       "      <td>#  4. Details of the impact \\n\\n Etchells’ wor...</td>\n",
       "      <td>0</td>\n",
       "    </tr>\n",
       "  </tbody>\n",
       "</table>\n",
       "</div>"
      ],
      "text/plain": [
       "                                               Title  \\\n",
       "0  Carnival Cultures: Deepening Understanding and...   \n",
       "1                                Naming Adult Autism   \n",
       "2  Changing the Media Narrative and Public Unders...   \n",
       "3  Improving rehabilitation and advances in inter...   \n",
       "4  Changing the way that we view video games and ...   \n",
       "\n",
       "                            1. Summary of the impact  \\\n",
       "0  ###  1. Summary of the impact \\(indicative max...   \n",
       "1  ###  1. Summary of the impact \\(indicative max...   \n",
       "2  ###  1. Summary of the impact \\n\\n Professor T...   \n",
       "3  ###  1. Summary of the impact \\n\\n **Ribbans’*...   \n",
       "4  #  1. Summary of the impact \\n\\n Digital media...   \n",
       "\n",
       "                            4. Details of the impact score  \n",
       "0  ###  4. Details of the impact \\(indicative max...     0  \n",
       "1  ###  4. Details of the impact \\(indicative max...     0  \n",
       "2  ###  4. Details of the impact \\n\\n **Kay’s** r...     0  \n",
       "3  ###  4. Details of the impact \\n\\n **Ribbans’*...     0  \n",
       "4  #  4. Details of the impact \\n\\n Etchells’ wor...     0  "
      ]
     },
     "execution_count": 7,
     "metadata": {},
     "output_type": "execute_result"
    }
   ],
   "source": [
    "# Create category\n",
    "\n",
    "# Update the 'score' column to 0 for rows where the score is '2' or '3'\n",
    "df.loc[(df['score'] == '2') | (df['score'] == '3'), \"score\"] = 0\n",
    "\n",
    "# Update the 'score' column to 1 for rows where the score is '4'\n",
    "df.loc[df['score'] == '4', \"score\"] = 1\n",
    "\n",
    "# Display the first 5 rows\n",
    "df.head(5)"
   ]
  },
  {
   "cell_type": "code",
   "execution_count": 8,
   "metadata": {},
   "outputs": [],
   "source": [
    "# Define a function to clean text by converting Markdown to plain text and removing unnecessary elements\n",
    "\n",
    "def clean_text(column):\n",
    "    \n",
    "    # Import necessary libraries\n",
    "    from bs4 import BeautifulSoup\n",
    "    \n",
    "    import markdown\n",
    "    \n",
    "    import re\n",
    "    \n",
    "    # Initialize an empty list to store cleaned text\n",
    "    list_name = []\n",
    "    \n",
    "    # Loop through each element in the column\n",
    "    for i in range(len(column)):\n",
    "        \n",
    "        # Converting Markdown syntax into HTML\n",
    "        html = markdown.markdown(column[i]) \n",
    "        \n",
    "        # Parsing the HTML content to extract plain text\n",
    "        soup = BeautifulSoup(html, 'html.parser')\n",
    "\n",
    "        text = soup.get_text()\n",
    "        \n",
    "        # Remove reference tags\n",
    "        text = re.sub(r'\\[\\d+(?:,\\s*\\d+)*\\]', '', text)\n",
    "    \n",
    "        text = re.sub(r'\\[\\d+(?:,\\s*\\w+)*\\]', '', text)\n",
    "    \n",
    "        text = re.sub(r'\\[\\w+\\]', '', text)\n",
    "        \n",
    "        # Remove extra newlines (multiple newlines) from the text\n",
    "        text = re.sub(r'\\n+\\n*', '', text)\n",
    "        \n",
    "        # Remove URLs from the text\n",
    "        text = re.sub(r'http\\S+', '', text)\n",
    "        \n",
    "        # Remove specific phrases\n",
    "        text = text.replace('(indicative maximum 100 words)', \"\")\n",
    "            \n",
    "        text = text.replace('1. Summary of the impact', \"\")\n",
    "        \n",
    "        text = text.replace('(indicative maximum 750 words)', \"\")\n",
    "            \n",
    "        text = text.replace('4. Details of the impact', \"\")\n",
    "        \n",
    "        # Append the cleaned text to the list\n",
    "        list_name.append(text.strip())\n",
    "    \n",
    "    return list_name"
   ]
  },
  {
   "cell_type": "code",
   "execution_count": 9,
   "metadata": {},
   "outputs": [],
   "source": [
    "# Create a list for the 'Title', Summary of the Impact' and 'Details of the impact' section\n",
    "\n",
    "summary_list = clean_text(df['1. Summary of the impact'])\n",
    "\n",
    "detail_list = clean_text(df['4. Details of the impact'])\n",
    "\n",
    "title_list = clean_text(df['Title'])"
   ]
  },
  {
   "cell_type": "code",
   "execution_count": 10,
   "metadata": {},
   "outputs": [
    {
     "name": "stdout",
     "output_type": "stream",
     "text": [
      "['!', '\"', '#', '$', '%', '&', \"'\", '(', ')', '*', '+', ',', '-', '.', '/', ':', ';', '<', '=', '>', '?', '@', '[', '\\\\', ']', '^', '_', '`', '{', '|', '}', '~', '', '’', '‘', '”', '“', '•']\n"
     ]
    }
   ],
   "source": [
    "from string import punctuation\n",
    "\n",
    "# Create a list of punctuation characters\n",
    "punct_list = list(punctuation)\n",
    "\n",
    "# Append additional characters to the list of punctuation\n",
    "punct_list.append(\"\")\n",
    "\n",
    "punct_list.append('’')\n",
    "\n",
    "punct_list.append('‘')\n",
    "\n",
    "punct_list.append('”')\n",
    "\n",
    "punct_list.append('“')\n",
    "\n",
    "punct_list.append('•')\n",
    "\n",
    "# Print the updated list of punctuation characters\n",
    "print(punct_list)"
   ]
  },
  {
   "cell_type": "code",
   "execution_count": 11,
   "metadata": {},
   "outputs": [],
   "source": [
    "# Define a function for word tokenization and lemmatization\n",
    "\n",
    "def word_tokenize(list_name):\n",
    "    \n",
    "    # Initialize an empty list to store tokenized text\n",
    "    list_tokenized = []\n",
    "    \n",
    "    # Loop through each text a given list\n",
    "    for text in list_name:\n",
    "    \n",
    "        try:\n",
    "            # Tokenize and lemmatize the text using the 'nlp' model\n",
    "            tokens = nlp(text.lower().strip())\n",
    "            \n",
    "            # If the number of tokens higher than 1\n",
    "            if len(tokens) > 1:\n",
    "                \n",
    "                # Initialize an empty list to store individual tokens\n",
    "                token_list = []            \n",
    "                \n",
    "                # Loop through all tokens\n",
    "                for token in tokens:\n",
    "                    \n",
    "                    # Get the lemmatized form of the token\n",
    "                    token_lemma = token.lemma_\n",
    "                    \n",
    "                    # Check if token in punct_list\n",
    "                    if token_lemma not in punct_list:\n",
    "                    \n",
    "                        # Remove specific characters\n",
    "                        token_lemma = token_lemma.replace(\"/\", \"\") # Rm single backslash\n",
    "                    \n",
    "                        token_lemma = token_lemma.replace(\"-\", \"\") # Rm hyphens\n",
    "                    \n",
    "                        token_lemma = token_lemma.replace(\".\", \"\") # Rm dots\n",
    "                        \n",
    "                        # Append the cleaned token to the list\n",
    "                        token_list.append(token_lemma.strip())\n",
    "                \n",
    "                # Append the list of tokens for the current text to the main list\n",
    "                list_tokenized.append(token_list)\n",
    "    \n",
    "        except Exception as e:\n",
    "            \n",
    "            # Print an error message if there's an issue processing the text\n",
    "            print(f\"Error processing text: {text}. Error: {str(e)}\")\n",
    "            \n",
    "            continue\n",
    "        \n",
    "    return list_tokenized"
   ]
  },
  {
   "cell_type": "code",
   "execution_count": 12,
   "metadata": {},
   "outputs": [],
   "source": [
    "# Tokenize and clean the title text\n",
    "title_tokenized = word_tokenize(title_list)\n",
    "\n",
    "# Tokenize and clean the summary text\n",
    "summary_tokenized = word_tokenize(summary_list)\n",
    "\n",
    "# Tokenize and clean the details text\n",
    "detail_tokenized = word_tokenize(detail_list)"
   ]
  },
  {
   "cell_type": "code",
   "execution_count": 13,
   "metadata": {},
   "outputs": [],
   "source": [
    "# Define a function to join tokens\n",
    "\n",
    "def word_join(list_name): \n",
    "    \n",
    "    dataset = [] # Initialize an empty list to store joined text\n",
    "\n",
    "    for text in list_name:\n",
    "        \n",
    "        # Join tokens in each list into a single string, separated by spaces\n",
    "        text_join = \" \".join(text)\n",
    "        \n",
    "        # Append the joined text to the dataset list\n",
    "        dataset.append(text_join)\n",
    "        \n",
    "    return dataset"
   ]
  },
  {
   "cell_type": "code",
   "execution_count": 14,
   "metadata": {},
   "outputs": [],
   "source": [
    "# Convert the tokenized texts back into single strings\n",
    "summary = word_join(summary_tokenized)\n",
    "\n",
    "detail = word_join(detail_tokenized)\n",
    "\n",
    "title = word_join(title_tokenized)"
   ]
  },
  {
   "cell_type": "code",
   "execution_count": 15,
   "metadata": {},
   "outputs": [
    {
     "data": {
      "text/html": [
       "<div>\n",
       "<style scoped>\n",
       "    .dataframe tbody tr th:only-of-type {\n",
       "        vertical-align: middle;\n",
       "    }\n",
       "\n",
       "    .dataframe tbody tr th {\n",
       "        vertical-align: top;\n",
       "    }\n",
       "\n",
       "    .dataframe thead th {\n",
       "        text-align: right;\n",
       "    }\n",
       "</style>\n",
       "<table border=\"1\" class=\"dataframe\">\n",
       "  <thead>\n",
       "    <tr style=\"text-align: right;\">\n",
       "      <th></th>\n",
       "      <th>title</th>\n",
       "      <th>summary</th>\n",
       "      <th>detail</th>\n",
       "      <th>paper</th>\n",
       "      <th>score</th>\n",
       "    </tr>\n",
       "  </thead>\n",
       "  <tbody>\n",
       "    <tr>\n",
       "      <th>0</th>\n",
       "      <td>carnival culture deepen understanding and insp...</td>\n",
       "      <td>caribbean carnival culture ccc have challenge ...</td>\n",
       "      <td>draw on the insight from her research since 20...</td>\n",
       "      <td>carnival culture deepen understanding and insp...</td>\n",
       "      <td>0</td>\n",
       "    </tr>\n",
       "    <tr>\n",
       "      <th>1</th>\n",
       "      <td>name adult autism</td>\n",
       "      <td>base on his experience of an adult diagnosis o...</td>\n",
       "      <td>develop professional awareness b change in pro...</td>\n",
       "      <td>name adult autism base on his experience of an...</td>\n",
       "      <td>0</td>\n",
       "    </tr>\n",
       "    <tr>\n",
       "      <th>2</th>\n",
       "      <td>change the medium narrative and public underst...</td>\n",
       "      <td>professor tony kay have contribute to research...</td>\n",
       "      <td>kay ’s research have help to challenge the not...</td>\n",
       "      <td>change the medium narrative and public underst...</td>\n",
       "      <td>0</td>\n",
       "    </tr>\n",
       "    <tr>\n",
       "      <th>3</th>\n",
       "      <td>improve rehabilitation and advance in internat...</td>\n",
       "      <td>ribban innovative clinical practice and resear...</td>\n",
       "      <td>ribban research lead to lecture and hand on te...</td>\n",
       "      <td>improve rehabilitation and advance in internat...</td>\n",
       "      <td>0</td>\n",
       "    </tr>\n",
       "    <tr>\n",
       "      <th>4</th>\n",
       "      <td>change the way that we view video game and the...</td>\n",
       "      <td>digital medium particularly in the form of soc...</td>\n",
       "      <td>etchell work on video game and screen time hav...</td>\n",
       "      <td>change the way that we view video game and the...</td>\n",
       "      <td>0</td>\n",
       "    </tr>\n",
       "    <tr>\n",
       "      <th>...</th>\n",
       "      <td>...</td>\n",
       "      <td>...</td>\n",
       "      <td>...</td>\n",
       "      <td>...</td>\n",
       "      <td>...</td>\n",
       "    </tr>\n",
       "    <tr>\n",
       "      <th>379</th>\n",
       "      <td>transform the understanding of gender in preve...</td>\n",
       "      <td>brown have transform policy practice and under...</td>\n",
       "      <td>gender sensitive understanding of prevent and ...</td>\n",
       "      <td>transform the understanding of gender in preve...</td>\n",
       "      <td>1</td>\n",
       "    </tr>\n",
       "    <tr>\n",
       "      <th>380</th>\n",
       "      <td>uop24athlete athlete in extreme environment ch...</td>\n",
       "      <td>exercise in extreme environment very cold or h...</td>\n",
       "      <td>immersion in cold water can cause cold shock a...</td>\n",
       "      <td>uop24athlete athlete in extreme environment ch...</td>\n",
       "      <td>1</td>\n",
       "    </tr>\n",
       "    <tr>\n",
       "      <th>381</th>\n",
       "      <td>uop24water improve water safety inform interna...</td>\n",
       "      <td>drowning be the third most common cause of acc...</td>\n",
       "      <td>respect the water be a nationwide multimedia w...</td>\n",
       "      <td>uop24water improve water safety inform interna...</td>\n",
       "      <td>1</td>\n",
       "    </tr>\n",
       "    <tr>\n",
       "      <th>382</th>\n",
       "      <td>uop24worker protect worker in arduous occupation</td>\n",
       "      <td>research from the university of portsmouth uop...</td>\n",
       "      <td>follow criticism of the size and weight of bod...</td>\n",
       "      <td>uop24worker protect worker in arduous occupati...</td>\n",
       "      <td>1</td>\n",
       "    </tr>\n",
       "    <tr>\n",
       "      <th>383</th>\n",
       "      <td>use eye tracking research to improve training ...</td>\n",
       "      <td>improve the effectiveness of training be an im...</td>\n",
       "      <td>many sector from competitive sport to healthca...</td>\n",
       "      <td>use eye tracking research to improve training ...</td>\n",
       "      <td>1</td>\n",
       "    </tr>\n",
       "  </tbody>\n",
       "</table>\n",
       "<p>384 rows × 5 columns</p>\n",
       "</div>"
      ],
      "text/plain": [
       "                                                 title  \\\n",
       "0    carnival culture deepen understanding and insp...   \n",
       "1                                    name adult autism   \n",
       "2    change the medium narrative and public underst...   \n",
       "3    improve rehabilitation and advance in internat...   \n",
       "4    change the way that we view video game and the...   \n",
       "..                                                 ...   \n",
       "379  transform the understanding of gender in preve...   \n",
       "380  uop24athlete athlete in extreme environment ch...   \n",
       "381  uop24water improve water safety inform interna...   \n",
       "382   uop24worker protect worker in arduous occupation   \n",
       "383  use eye tracking research to improve training ...   \n",
       "\n",
       "                                               summary  \\\n",
       "0    caribbean carnival culture ccc have challenge ...   \n",
       "1    base on his experience of an adult diagnosis o...   \n",
       "2    professor tony kay have contribute to research...   \n",
       "3    ribban innovative clinical practice and resear...   \n",
       "4    digital medium particularly in the form of soc...   \n",
       "..                                                 ...   \n",
       "379  brown have transform policy practice and under...   \n",
       "380  exercise in extreme environment very cold or h...   \n",
       "381  drowning be the third most common cause of acc...   \n",
       "382  research from the university of portsmouth uop...   \n",
       "383  improve the effectiveness of training be an im...   \n",
       "\n",
       "                                                detail  \\\n",
       "0    draw on the insight from her research since 20...   \n",
       "1    develop professional awareness b change in pro...   \n",
       "2    kay ’s research have help to challenge the not...   \n",
       "3    ribban research lead to lecture and hand on te...   \n",
       "4    etchell work on video game and screen time hav...   \n",
       "..                                                 ...   \n",
       "379  gender sensitive understanding of prevent and ...   \n",
       "380  immersion in cold water can cause cold shock a...   \n",
       "381  respect the water be a nationwide multimedia w...   \n",
       "382  follow criticism of the size and weight of bod...   \n",
       "383  many sector from competitive sport to healthca...   \n",
       "\n",
       "                                                 paper score  \n",
       "0    carnival culture deepen understanding and insp...     0  \n",
       "1    name adult autism base on his experience of an...     0  \n",
       "2    change the medium narrative and public underst...     0  \n",
       "3    improve rehabilitation and advance in internat...     0  \n",
       "4    change the way that we view video game and the...     0  \n",
       "..                                                 ...   ...  \n",
       "379  transform the understanding of gender in preve...     1  \n",
       "380  uop24athlete athlete in extreme environment ch...     1  \n",
       "381  uop24water improve water safety inform interna...     1  \n",
       "382  uop24worker protect worker in arduous occupati...     1  \n",
       "383  use eye tracking research to improve training ...     1  \n",
       "\n",
       "[384 rows x 5 columns]"
      ]
     },
     "execution_count": 15,
     "metadata": {},
     "output_type": "execute_result"
    }
   ],
   "source": [
    "# Create a new DataFrame from the title data\n",
    "\n",
    "newdf = pd.DataFrame(data = title)\n",
    "\n",
    "# Rename the column to 'title'\n",
    "newdf.columns = ['title']\n",
    "\n",
    "# Add the summary text as a new column\n",
    "newdf['summary'] = summary\n",
    "\n",
    "# Add the detail text as a new column\n",
    "newdf['detail'] = detail\n",
    "\n",
    "# Combine title, summary, and detail into a single column 'paper'\n",
    "newdf['paper'] = newdf['title'] + \" \" + newdf['summary'] + \" \" + newdf['detail']\n",
    "\n",
    "# Add the score column from the original DataFrame\n",
    "newdf['score'] = df['score']\n",
    "\n",
    "# Display the DataFrame\n",
    "newdf"
   ]
  },
  {
   "cell_type": "code",
   "execution_count": 16,
   "metadata": {},
   "outputs": [],
   "source": [
    "# Convert paper and score columns to list\n",
    "\n",
    "paper_data = newdf['paper'].tolist()\n",
    "\n",
    "score_data = newdf['score'].tolist()"
   ]
  },
  {
   "cell_type": "code",
   "execution_count": 17,
   "metadata": {},
   "outputs": [
    {
     "name": "stdout",
     "output_type": "stream",
     "text": [
      "Number of training samples: 307\n",
      "\n",
      "Number of testing samples: 77\n",
      "\n",
      "Total number of samples 384\n"
     ]
    }
   ],
   "source": [
    "from sklearn.model_selection import train_test_split\n",
    "\n",
    "# Split into training set and testing set\n",
    "sample_train, sample_test, score_train, score_test = train_test_split(paper_data, score_data, test_size = 0.2, random_state = 2024)\n",
    "\n",
    "# Check length of training set and test set\n",
    "print('Number of training samples:', len(sample_train))\n",
    "print('\\nNumber of testing samples:',len(sample_test))\n",
    "print('\\nTotal number of samples', len(sample_train) + len(sample_test))"
   ]
  },
  {
   "cell_type": "markdown",
   "metadata": {},
   "source": [
    "## 3. Category Distribution Analysis"
   ]
  },
  {
   "cell_type": "code",
   "execution_count": 18,
   "metadata": {},
   "outputs": [
    {
     "name": "stderr",
     "output_type": "stream",
     "text": [
      "/tmp/ipykernel_299642/305017775.py:9: FutureWarning: \n",
      "\n",
      "Passing `palette` without assigning `hue` is deprecated and will be removed in v0.14.0. Assign the `x` variable to `hue` and set `legend=False` for the same effect.\n",
      "\n",
      "  ax = sns.barplot(x=score_counts.index.astype(str), y=score_counts.values, palette='pastel')\n"
     ]
    },
    {
     "data": {
      "image/png": "[encoded data removed]",
      "text/plain": [
       "<Figure size 800x600 with 1 Axes>"
      ]
     },
     "metadata": {},
     "output_type": "display_data"
    }
   ],
   "source": [
    "# Category Distribution\n",
    "import seaborn as sns\n",
    "\n",
    "# Count occurrences of each score\n",
    "score_counts = newdf[\"score\"].value_counts()\n",
    "\n",
    "# Plotting with seaborn\n",
    "plt.figure(figsize=(8, 6))\n",
    "ax = sns.barplot(x=score_counts.index.astype(str), y=score_counts.values, palette='pastel')\n",
    "\n",
    "# Add annotations on top of bars\n",
    "for p in ax.patches:\n",
    "    ax.annotate(format(p.get_height(), '.0f'), \n",
    "                (p.get_x() + p.get_width() / 2., p.get_height()), \n",
    "                ha='center', va='center', \n",
    "                xytext=(0, 5), \n",
    "                textcoords='offset points')\n",
    "\n",
    "# Adding titles and labels\n",
    "plt.title('Category Distribution')\n",
    "plt.xlabel('Score')\n",
    "plt.ylabel('Frequency')\n",
    "\n",
    "# Display the bar chart\n",
    "plt.show()\n",
    "#plt.savefig('category.png')"
   ]
  },
  {
   "cell_type": "code",
   "execution_count": 19,
   "metadata": {},
   "outputs": [
    {
     "data": {
      "image/png": "[encoded data removed]",
      "text/plain": [
       "<Figure size 1000x600 with 1 Axes>"
      ]
     },
     "metadata": {},
     "output_type": "display_data"
    }
   ],
   "source": [
    "# Category Distribution in Training and Testing Sets\n",
    "\n",
    "import matplotlib.pyplot as plt\n",
    "import seaborn as sns\n",
    "import pandas as pd\n",
    "\n",
    "# Prepare the data\n",
    "categories = ['Train', 'Train', 'Test', 'Test']\n",
    "scores = ['0', '1', '0', '1']\n",
    "values = [score_train.count(0), score_train.count(1), score_test.count(0), score_test.count(1)]\n",
    "\n",
    "# Create a DataFrame\n",
    "cat_df = pd.DataFrame({'Category': categories, 'Score': scores, 'Count': values})\n",
    "\n",
    "# Set up the plot\n",
    "plt.figure(figsize=(10, 6))\n",
    "sns.set_style(\"whitegrid\")\n",
    "\n",
    "# Create the barplot\n",
    "ax = sns.barplot(x='Category', y='Count', hue='Score', data=cat_df,\n",
    "                 palette=[\"steelblue\", \"sandybrown\"])\n",
    "\n",
    "# Customize the chart\n",
    "plt.title('Distribution of Scores in Training and Testing Sets', fontsize=14)\n",
    "plt.xlabel('Categories', fontsize=12)\n",
    "plt.ylabel('Count', fontsize=12)\n",
    "\n",
    "# Add value labels on top of each bar\n",
    "for container in ax.containers:\n",
    "    ax.bar_label(container, label_type='edge')\n",
    "\n",
    "# Adjust legend\n",
    "plt.legend(title=\"Score\", title_fontsize='12', fontsize='10')\n",
    "\n",
    "# Remove top and right spines\n",
    "sns.despine()\n",
    "\n",
    "# Display the chart\n",
    "plt.tight_layout()\n",
    "plt.show()\n",
    "#plt.savefig('train-test-category.png')"
   ]
  },
  {
   "cell_type": "markdown",
   "metadata": {},
   "source": [
    "## 4. Modelling"
   ]
  },
  {
   "cell_type": "code",
   "execution_count": 20,
   "metadata": {},
   "outputs": [],
   "source": [
    "# Define a function to compute metrics\n",
    "def get_metrics(real_score, prediction):\n",
    "    \n",
    "    # Plot the confusion matrix\n",
    "    cm = confusion_matrix(real_score, prediction)\n",
    "    \n",
    "    plt.figure(figsize = (4,3))\n",
    "    \n",
    "    sns.heatmap(cm.T, square = True, annot = True, fmt = 'd', xticklabels=[0,1], yticklabels=[0,1],\n",
    "           cmap = 'Reds')\n",
    "    \n",
    "    plt.xlabel('True Label')\n",
    "    \n",
    "    plt.ylabel('Predicted Label')\n",
    "    \n",
    "    plt.show()\n",
    "    \n",
    "    print(\"Accuracy:\" , accuracy_score(real_score, prediction))\n",
    "    print(\"F1-score:\" , f1_score(real_score, prediction, average='macro')) # Get average score for all classes\n",
    "    print(\"Precision:\" , precision_score(real_score, prediction, average='macro')) # Get average score for all classes\n",
    "    print(\"Recall:\" , recall_score(real_score, prediction, average='macro')) # Get average score for all classes\n",
    "    print(\"\\nClassification performance:\\n\" , classification_report(real_score, prediction))"
   ]
  },
  {
   "cell_type": "code",
   "execution_count": 21,
   "metadata": {},
   "outputs": [],
   "source": [
    "from sklearn.feature_extraction.text import CountVectorizer\n",
    "from imblearn.over_sampling import RandomOverSampler\n",
    "\n",
    "# Word Vectorization for sample_train and sample_test\n",
    "vectorizer = CountVectorizer()\n",
    "\n",
    "# Fit and transform training data, transform test data\n",
    "X_train = vectorizer.fit_transform(sample_train)\n",
    "\n",
    "X_test = vectorizer.transform(sample_test)\n",
    "\n",
    "# Convert sparse matrix to dense format\n",
    "X_train_dense = X_train.toarray()\n",
    "\n",
    "X_test_dense = X_test.toarray()\n",
    "\n",
    "# OverSampling for X_train\n",
    "ros = RandomOverSampler(sampling_strategy='minority', random_state=2024)\n",
    "\n",
    "X_resampled, y_resampled = ros.fit_resample(X_train_dense, score_train)"
   ]
  },
  {
   "cell_type": "markdown",
   "metadata": {},
   "source": [
    "### Naive Bayes"
   ]
  },
  {
   "cell_type": "code",
   "execution_count": 22,
   "metadata": {},
   "outputs": [
    {
     "name": "stdout",
     "output_type": "stream",
     "text": [
      "Cross-validation:\n",
      "\n",
      "Cross-validation scores: [0.82926829 0.77777778 0.77777778 0.86419753 0.9382716 ]\n",
      "Mean cross-validation score: 0.8374585968081902\n",
      "\n",
      "Prediction:\n",
      "\n",
      "Predicted: [1, 1, 1, 1, 1, 1, 1, 0, 1, 1]\n",
      "Ground truth: [1, 1, 1, 1, 1, 1, 1, 0, 1, 1]\n"
     ]
    },
    {
     "data": {
      "image/png": "[encoded data removed]",
      "text/plain": [
       "<Figure size 400x300 with 2 Axes>"
      ]
     },
     "metadata": {},
     "output_type": "display_data"
    },
    {
     "name": "stdout",
     "output_type": "stream",
     "text": [
      "Accuracy: 0.7662337662337663\n",
      "F1-score: 0.6602941176470588\n",
      "Precision: 0.8695652173913043\n",
      "Recall: 0.6538461538461539\n",
      "\n",
      "Classification performance:\n",
      "               precision    recall  f1-score   support\n",
      "\n",
      "           0       1.00      0.31      0.47        26\n",
      "           1       0.74      1.00      0.85        51\n",
      "\n",
      "    accuracy                           0.77        77\n",
      "   macro avg       0.87      0.65      0.66        77\n",
      "weighted avg       0.83      0.77      0.72        77\n",
      "\n"
     ]
    }
   ],
   "source": [
    "# Naive Bayes model\n",
    "from sklearn.naive_bayes import MultinomialNB\n",
    "\n",
    "# Initialize the Naive Bayes model\n",
    "NB_model = MultinomialNB()\n",
    "\n",
    "# Perform cross-validation\n",
    "NB_cv_scores = cross_val_score(NB_model, X_resampled, y_resampled, cv=5, scoring='accuracy')\n",
    "\n",
    "print(f\"Cross-validation:\\n\")\n",
    "print(f\"Cross-validation scores: {NB_cv_scores}\")\n",
    "print(f\"Mean cross-validation score: {NB_cv_scores.mean()}\")\n",
    "\n",
    "# Train the model\n",
    "NB_model.fit(X_resampled, y_resampled)\n",
    "\n",
    "# Predict\n",
    "NB_prediction = NB_model.predict(X_test_dense)\n",
    "\n",
    "print(f\"\\nPrediction:\\n\")\n",
    "print(\"Predicted:\", NB_prediction.tolist()[0:10]) # Print the first 10 predictions\n",
    "print(\"Ground truth:\",score_test[0:10])\n",
    "\n",
    "get_metrics(score_test, NB_prediction)"
   ]
  },
  {
   "cell_type": "markdown",
   "metadata": {},
   "source": [
    "Overall, these results suggest that your model is performing well both in cross-validation and on the provided test set, with high accuracy and consistency."
   ]
  },
  {
   "cell_type": "markdown",
   "metadata": {},
   "source": [
    "### KNN"
   ]
  },
  {
   "cell_type": "code",
   "execution_count": 23,
   "metadata": {},
   "outputs": [
    {
     "name": "stdout",
     "output_type": "stream",
     "text": [
      "Cross-validation:\n",
      "\n",
      "Cross-validation scores: [0.64634146 0.64197531 0.71604938 0.69135802 0.7037037 ]\n",
      "Mean cross-validation score: 0.6798855766335441\n",
      "\n",
      "Prediction:\n",
      "\n",
      "Predicted: [1, 1, 0, 0, 0, 1, 0, 0, 0, 1]\n",
      "Ground truth: [1, 1, 1, 1, 1, 1, 1, 0, 1, 1]\n"
     ]
    },
    {
     "data": {
      "image/png": "[encoded data removed]",
      "text/plain": [
       "<Figure size 400x300 with 2 Axes>"
      ]
     },
     "metadata": {},
     "output_type": "display_data"
    },
    {
     "name": "stdout",
     "output_type": "stream",
     "text": [
      "Accuracy: 0.5844155844155844\n",
      "F1-score: 0.5837837837837838\n",
      "Precision: 0.6325431034482758\n",
      "Recall: 0.6391402714932126\n",
      "\n",
      "Classification performance:\n",
      "               precision    recall  f1-score   support\n",
      "\n",
      "           0       0.44      0.81      0.57        26\n",
      "           1       0.83      0.47      0.60        51\n",
      "\n",
      "    accuracy                           0.58        77\n",
      "   macro avg       0.63      0.64      0.58        77\n",
      "weighted avg       0.70      0.58      0.59        77\n",
      "\n"
     ]
    }
   ],
   "source": [
    "from sklearn.neighbors import KNeighborsClassifier\n",
    "\n",
    "# Initialize the KNN model\n",
    "KNN_model = KNeighborsClassifier(n_neighbors = 2)\n",
    "\n",
    "# Perform cross-validation\n",
    "KNN_cv_scores = cross_val_score(KNN_model, X_resampled, y_resampled, cv=5, scoring='accuracy')\n",
    "\n",
    "print(f\"Cross-validation:\\n\")\n",
    "print(f\"Cross-validation scores: {KNN_cv_scores}\")\n",
    "print(f\"Mean cross-validation score: {KNN_cv_scores.mean()}\")\n",
    "\n",
    "# Fit the model\n",
    "KNN_model.fit(X_resampled, y_resampled)\n",
    "\n",
    "# Predict\n",
    "KNN_prediction = KNN_model.predict(X_test_dense)\n",
    "\n",
    "print(f\"\\nPrediction:\\n\")\n",
    "print(\"Predicted:\", KNN_prediction.tolist()[0:10]) # Print the first 10 predictions\n",
    "print(\"Ground truth:\",score_test[0:10])\n",
    "\n",
    "get_metrics(score_test, KNN_prediction)"
   ]
  },
  {
   "cell_type": "markdown",
   "metadata": {},
   "source": [
    "### SVM"
   ]
  },
  {
   "cell_type": "code",
   "execution_count": 24,
   "metadata": {},
   "outputs": [
    {
     "name": "stdout",
     "output_type": "stream",
     "text": [
      "Cross-validation:\n",
      "\n",
      "Cross-validation scores: [0.84146341 0.80246914 0.81481481 0.86419753 0.86419753]\n",
      "Mean cross-validation score: 0.837428485395965\n",
      "\n",
      "Prediction:\n",
      "\n",
      "Predicted: [1, 1, 1, 1, 1, 1, 1, 0, 1, 1]\n",
      "Ground truth: [1, 1, 1, 1, 1, 1, 1, 0, 1, 1]\n"
     ]
    },
    {
     "data": {
      "image/png": "[encoded data removed]",
      "text/plain": [
       "<Figure size 400x300 with 2 Axes>"
      ]
     },
     "metadata": {},
     "output_type": "display_data"
    },
    {
     "name": "stdout",
     "output_type": "stream",
     "text": [
      "Accuracy: 0.7922077922077922\n",
      "F1-score: 0.7578616352201257\n",
      "Precision: 0.7727272727272727\n",
      "Recall: 0.748868778280543\n",
      "\n",
      "Classification performance:\n",
      "               precision    recall  f1-score   support\n",
      "\n",
      "           0       0.73      0.62      0.67        26\n",
      "           1       0.82      0.88      0.85        51\n",
      "\n",
      "    accuracy                           0.79        77\n",
      "   macro avg       0.77      0.75      0.76        77\n",
      "weighted avg       0.79      0.79      0.79        77\n",
      "\n"
     ]
    }
   ],
   "source": [
    "from sklearn.svm import SVC\n",
    "\n",
    "# Initialize the SVM model\n",
    "SVM_model = SVC(kernel='linear')\n",
    "\n",
    "# Perform cross-validation\n",
    "SVM_cv_scores = cross_val_score(SVM_model, X_resampled, y_resampled, cv=5, scoring='accuracy')\n",
    "\n",
    "print(f\"Cross-validation:\\n\")\n",
    "print(f\"Cross-validation scores: {SVM_cv_scores}\")\n",
    "print(f\"Mean cross-validation score: {SVM_cv_scores.mean()}\")\n",
    "\n",
    "# Train the model\n",
    "SVM_model.fit(X_resampled, y_resampled)\n",
    "\n",
    "# Predict\n",
    "SVM_prediction = SVM_model.predict(X_test_dense)\n",
    "\n",
    "print(f\"\\nPrediction:\\n\")\n",
    "print(\"Predicted:\",SVM_prediction.tolist()[0:10]) # Print the first 10 predictions\n",
    "print(\"Ground truth:\",score_test[0:10])\n",
    "\n",
    "get_metrics(score_test, SVM_prediction)"
   ]
  },
  {
   "cell_type": "markdown",
   "metadata": {},
   "source": [
    "### Decision Tree"
   ]
  },
  {
   "cell_type": "code",
   "execution_count": 25,
   "metadata": {},
   "outputs": [
    {
     "name": "stdout",
     "output_type": "stream",
     "text": [
      "Cross-validation:\n",
      "\n",
      "Cross-validation scores: [0.80487805 0.7654321  0.7654321  0.79012346 0.85185185]\n",
      "Mean cross-validation score: 0.7955435109906654\n",
      "\n",
      "Prediction:\n",
      "\n",
      "Predicted: [1, 1, 1, 1, 1, 0, 1, 1, 1, 1]\n",
      "Ground truth: [1, 1, 1, 1, 1, 1, 1, 0, 1, 1]\n"
     ]
    },
    {
     "data": {
      "image/png": "[encoded data removed]",
      "text/plain": [
       "<Figure size 400x300 with 2 Axes>"
      ]
     },
     "metadata": {},
     "output_type": "display_data"
    },
    {
     "name": "stdout",
     "output_type": "stream",
     "text": [
      "Accuracy: 0.6753246753246753\n",
      "F1-score: 0.6403885671586027\n",
      "Precision: 0.6392592592592592\n",
      "Recall: 0.6417797888386123\n",
      "\n",
      "Classification performance:\n",
      "               precision    recall  f1-score   support\n",
      "\n",
      "           0       0.52      0.54      0.53        26\n",
      "           1       0.76      0.75      0.75        51\n",
      "\n",
      "    accuracy                           0.68        77\n",
      "   macro avg       0.64      0.64      0.64        77\n",
      "weighted avg       0.68      0.68      0.68        77\n",
      "\n"
     ]
    }
   ],
   "source": [
    "from sklearn.tree import DecisionTreeClassifier\n",
    "\n",
    "# Initialize the Decision Tree model\n",
    "DT_model = DecisionTreeClassifier(random_state = 2024)\n",
    "\n",
    "# Perform cross-validation\n",
    "DT_cv_scores = cross_val_score(DT_model, X_resampled, y_resampled, cv=5, scoring='accuracy')\n",
    "\n",
    "print(f\"Cross-validation:\\n\")\n",
    "print(f\"Cross-validation scores: {DT_cv_scores}\")\n",
    "print(f\"Mean cross-validation score: {DT_cv_scores.mean()}\")\n",
    "\n",
    "# Train the model\n",
    "DT_model.fit(X_resampled, y_resampled)\n",
    "\n",
    "# Predict\n",
    "DT_prediction = DT_model.predict(X_test_dense)\n",
    "\n",
    "print(f\"\\nPrediction:\\n\")\n",
    "print(\"Predicted:\",DT_prediction.tolist()[0:10]) # Print the first 10 predictions\n",
    "print(\"Ground truth:\",score_test[0:10])\n",
    "\n",
    "get_metrics(score_test, DT_prediction)"
   ]
  },
  {
   "cell_type": "markdown",
   "metadata": {},
   "source": [
    "### Random Forest"
   ]
  },
  {
   "cell_type": "code",
   "execution_count": 26,
   "metadata": {},
   "outputs": [
    {
     "name": "stdout",
     "output_type": "stream",
     "text": [
      "Cross-validation:\n",
      "\n",
      "Cross-validation scores: [0.81707317 0.81481481 0.82716049 0.96296296 0.97530864]\n",
      "Mean cross-validation score: 0.8794640168623908\n",
      "\n",
      "Prediction:\n",
      "\n",
      "Predicted: [1, 1, 1, 1, 1, 1, 1, 0, 1, 1]\n",
      "Ground truth: [1, 1, 1, 1, 1, 1, 1, 0, 1, 1]\n"
     ]
    },
    {
     "data": {
      "image/png": "[encoded data removed]",
      "text/plain": [
       "<Figure size 400x300 with 2 Axes>"
      ]
     },
     "metadata": {},
     "output_type": "display_data"
    },
    {
     "name": "stdout",
     "output_type": "stream",
     "text": [
      "Accuracy: 0.7662337662337663\n",
      "F1-score: 0.6855716878402903\n",
      "Precision: 0.7935897435897437\n",
      "Recall: 0.6726998491704375\n",
      "\n",
      "Classification performance:\n",
      "               precision    recall  f1-score   support\n",
      "\n",
      "           0       0.83      0.38      0.53        26\n",
      "           1       0.75      0.96      0.84        51\n",
      "\n",
      "    accuracy                           0.77        77\n",
      "   macro avg       0.79      0.67      0.69        77\n",
      "weighted avg       0.78      0.77      0.74        77\n",
      "\n"
     ]
    }
   ],
   "source": [
    "from sklearn.ensemble import RandomForestClassifier\n",
    "\n",
    "# Initialize the Random Forest model\n",
    "RF_model = RandomForestClassifier(n_estimators = 1000, random_state = 2024)\n",
    "\n",
    "# Perform cross-validation\n",
    "RF_cv_scores = cross_val_score(RF_model, X_resampled, y_resampled, cv=5, scoring='accuracy')\n",
    "\n",
    "print(f\"Cross-validation:\\n\")\n",
    "print(f\"Cross-validation scores: {RF_cv_scores}\")\n",
    "print(f\"Mean cross-validation score: {RF_cv_scores.mean()}\")\n",
    "\n",
    "# Train the model\n",
    "RF_model.fit(X_resampled, y_resampled)\n",
    "\n",
    "# Predict\n",
    "RF_prediction = RF_model.predict(X_test_dense)\n",
    "\n",
    "print(f\"\\nPrediction:\\n\")\n",
    "print(\"Predicted:\",RF_prediction.tolist()[0:10]) # Print the first 10 predictions\n",
    "print(\"Ground truth:\",score_test[0:10])\n",
    "\n",
    "get_metrics(score_test, RF_prediction)"
   ]
  },
  {
   "cell_type": "markdown",
   "metadata": {},
   "source": [
    "### Gradient Boosting Classifier"
   ]
  },
  {
   "cell_type": "code",
   "execution_count": 27,
   "metadata": {},
   "outputs": [
    {
     "name": "stdout",
     "output_type": "stream",
     "text": [
      "Cross-validation:\n",
      "\n",
      "Cross-validation scores: [0.84146341 0.82716049 0.80246914 0.90123457 0.87654321]\n",
      "Mean cross-validation score: 0.8497741644083108\n",
      "\n",
      "Prediction:\n",
      "\n",
      "Predicted: [1, 1, 1, 1, 1, 1, 1, 0, 1, 1]\n",
      "Ground truth: [1, 1, 1, 1, 1, 1, 1, 0, 1, 1]\n"
     ]
    },
    {
     "data": {
      "image/png": "[encoded data removed]",
      "text/plain": [
       "<Figure size 400x300 with 2 Axes>"
      ]
     },
     "metadata": {},
     "output_type": "display_data"
    },
    {
     "name": "stdout",
     "output_type": "stream",
     "text": [
      "Accuracy: 0.7402597402597403\n",
      "F1-score: 0.6900161030595814\n",
      "Precision: 0.7109649122807018\n",
      "Recall: 0.6813725490196079\n",
      "\n",
      "Classification performance:\n",
      "               precision    recall  f1-score   support\n",
      "\n",
      "           0       0.65      0.50      0.57        26\n",
      "           1       0.77      0.86      0.81        51\n",
      "\n",
      "    accuracy                           0.74        77\n",
      "   macro avg       0.71      0.68      0.69        77\n",
      "weighted avg       0.73      0.74      0.73        77\n",
      "\n"
     ]
    }
   ],
   "source": [
    "from sklearn.ensemble import GradientBoostingClassifier\n",
    "\n",
    "# Initialize the Gradient Boosting Classifier\n",
    "GBC_model =  GradientBoostingClassifier(n_estimators = 1000, random_state = 2024)\n",
    "\n",
    "# Perform cross-validation\n",
    "GBC_cv_scores = cross_val_score(GBC_model, X_resampled, y_resampled, cv=5, scoring='accuracy')\n",
    "\n",
    "print(f\"Cross-validation:\\n\")\n",
    "print(f\"Cross-validation scores: {GBC_cv_scores}\")\n",
    "print(f\"Mean cross-validation score: {GBC_cv_scores.mean()}\")\n",
    "\n",
    "# Train the model\n",
    "GBC_model.fit(X_resampled, y_resampled)\n",
    "\n",
    "# Predict\n",
    "GBC_prediction = GBC_model.predict(X_test_dense)\n",
    "\n",
    "print(f\"\\nPrediction:\\n\")\n",
    "print(\"Predicted:\",GBC_prediction.tolist()[0:10]) # Print the first 10 predictions\n",
    "print(\"Ground truth:\",score_test[0:10])\n",
    "\n",
    "get_metrics(score_test, GBC_prediction)"
   ]
  },
  {
   "cell_type": "markdown",
   "metadata": {},
   "source": [
    "### AdaBoost"
   ]
  },
  {
   "cell_type": "code",
   "execution_count": 28,
   "metadata": {},
   "outputs": [
    {
     "name": "stdout",
     "output_type": "stream",
     "text": [
      "Cross-validation:\n",
      "\n",
      "Cross-validation scores: [0.81707317 0.83950617 0.77777778 0.90123457 0.81481481]\n",
      "Mean cross-validation score: 0.8300813008130081\n",
      "\n",
      "Prediction:\n",
      "\n",
      "Predicted: [1, 1, 0, 1, 1, 1, 0, 0, 1, 1]\n",
      "Ground truth: [1, 1, 1, 1, 1, 1, 1, 0, 1, 1]\n"
     ]
    },
    {
     "data": {
      "image/png": "[encoded data removed]",
      "text/plain": [
       "<Figure size 400x300 with 2 Axes>"
      ]
     },
     "metadata": {},
     "output_type": "display_data"
    },
    {
     "name": "stdout",
     "output_type": "stream",
     "text": [
      "Accuracy: 0.7272727272727273\n",
      "F1-score: 0.6784649035593557\n",
      "Precision: 0.6934523809523809\n",
      "Recall: 0.6715686274509804\n",
      "\n",
      "Classification performance:\n",
      "               precision    recall  f1-score   support\n",
      "\n",
      "           0       0.62      0.50      0.55        26\n",
      "           1       0.77      0.84      0.80        51\n",
      "\n",
      "    accuracy                           0.73        77\n",
      "   macro avg       0.69      0.67      0.68        77\n",
      "weighted avg       0.72      0.73      0.72        77\n",
      "\n"
     ]
    }
   ],
   "source": [
    "from sklearn.ensemble import AdaBoostClassifier\n",
    "\n",
    "# Initialize the AdaBoost Classifier\n",
    "ADA_model = AdaBoostClassifier(n_estimators = 1000, random_state = 2024, learning_rate = 0.1)\n",
    "\n",
    "# Perform cross-validation\n",
    "ADA_cv_scores = cross_val_score(ADA_model, X_resampled, y_resampled, cv=5, scoring='accuracy')\n",
    "\n",
    "print(f\"Cross-validation:\\n\")\n",
    "print(f\"Cross-validation scores: {ADA_cv_scores}\")\n",
    "print(f\"Mean cross-validation score: {ADA_cv_scores.mean()}\")\n",
    "\n",
    "# Train the model\n",
    "ADA_model.fit(X_resampled, y_resampled)\n",
    "\n",
    "# Predict\n",
    "ADA_prediction = ADA_model.predict(X_test_dense)\n",
    "\n",
    "print(f\"\\nPrediction:\\n\")\n",
    "print(\"Predicted:\", ADA_prediction.tolist()[0:10]) # Print the first 10 predictions\n",
    "print(\"Ground truth:\",score_test[0:10])\n",
    "\n",
    "get_metrics(score_test, ADA_prediction)"
   ]
  },
  {
   "cell_type": "markdown",
   "metadata": {},
   "source": [
    "### Extreme Gradient Boosting"
   ]
  },
  {
   "cell_type": "code",
   "execution_count": 29,
   "metadata": {},
   "outputs": [
    {
     "name": "stdout",
     "output_type": "stream",
     "text": [
      "Cross-validation:\n",
      "\n",
      "Cross-validation scores: [0.81707317 0.7654321  0.80246914 0.91358025 0.92592593]\n",
      "Mean cross-validation score: 0.844896115627823\n",
      "\n",
      "Prediction:\n",
      "\n",
      "Predicted: [1, 1, 1, 1, 1, 0, 0, 0, 1, 1]\n",
      "Ground truth: [1, 1, 1, 1, 1, 1, 1, 0, 1, 1]\n"
     ]
    },
    {
     "data": {
      "image/png": "[encoded data removed]",
      "text/plain": [
       "<Figure size 400x300 with 2 Axes>"
      ]
     },
     "metadata": {},
     "output_type": "display_data"
    },
    {
     "name": "stdout",
     "output_type": "stream",
     "text": [
      "Accuracy: 0.7272727272727273\n",
      "F1-score: 0.6703363914373088\n",
      "Precision: 0.6950998185117967\n",
      "Recall: 0.6621417797888387\n",
      "\n",
      "Classification performance:\n",
      "               precision    recall  f1-score   support\n",
      "\n",
      "           0       0.63      0.46      0.53        26\n",
      "           1       0.76      0.86      0.81        51\n",
      "\n",
      "    accuracy                           0.73        77\n",
      "   macro avg       0.70      0.66      0.67        77\n",
      "weighted avg       0.72      0.73      0.71        77\n",
      "\n"
     ]
    }
   ],
   "source": [
    "from xgboost import XGBClassifier\n",
    "\n",
    "# Initialize the Extreme Gradient Boosting Classifier\n",
    "XGB_model = XGBClassifier(n_estimators = 1000, learning_rate = 0.1, random_state = 2024)\n",
    "\n",
    "# Perform cross-validation\n",
    "XGB_cv_scores = cross_val_score(XGB_model, X_resampled, y_resampled, cv=5, scoring='accuracy')\n",
    "\n",
    "print(f\"Cross-validation:\\n\")\n",
    "print(f\"Cross-validation scores: {XGB_cv_scores}\")\n",
    "print(f\"Mean cross-validation score: {XGB_cv_scores.mean()}\")\n",
    "\n",
    "# Train the model\n",
    "XGB_model.fit(X_resampled, y_resampled)\n",
    "\n",
    "# Predict\n",
    "XGB_prediction = XGB_model.predict(X_test_dense)\n",
    "\n",
    "print(f\"\\nPrediction:\\n\")\n",
    "print(\"Predicted:\", XGB_prediction.tolist()[0:10]) # Print the first 10 predictions\n",
    "print(\"Ground truth:\",score_test[0:10])\n",
    "\n",
    "get_metrics(score_test, XGB_prediction)"
   ]
  },
  {
   "cell_type": "markdown",
   "metadata": {},
   "source": [
    "## 5.  Model Comparison"
   ]
  },
  {
   "cell_type": "code",
   "execution_count": 30,
   "metadata": {},
   "outputs": [
    {
     "data": {
      "image/png": "[encoded data removed]",
      "text/plain": [
       "<Figure size 800x600 with 1 Axes>"
      ]
     },
     "metadata": {},
     "output_type": "display_data"
    }
   ],
   "source": [
    "# Create a list to store cross-validation scores\n",
    "cv_data = [NB_cv_scores, KNN_cv_scores, SVM_cv_scores, DT_cv_scores, RF_cv_scores, GBC_cv_scores, ADA_cv_scores, XGB_cv_scores]\n",
    "\n",
    "import matplotlib.pyplot as plt\n",
    "import seaborn as sns\n",
    "\n",
    "# Create box plot\n",
    "fig = plt.figure(figsize=(8, 6))\n",
    "\n",
    "# Creating axes instance\n",
    "ax = fig.add_axes([0, 0, 1, 1])\n",
    "\n",
    "# Boxplot\n",
    "sns.boxplot(data=cv_data, palette='light:#5A9', orient = 'h')\n",
    "\n",
    "# Set x-axis labels\n",
    "ax.set_yticks(range(len(['Naive Bayes', 'KNN', 'SVM', 'Decision Tree', 'Random Forest', 'Gradient Boosting Classifier', \n",
    "                         'AdaBoost', 'Extreme Gradient Boosting'])))\n",
    "ax.set_yticklabels(['Naive Bayes', 'KNN', 'SVM', 'Decision Tree', 'Random Forest', 'Gradient Boosting Classifier', 'AdaBoost', \n",
    "                    'Extreme Gradient Boosting'])\n",
    "\n",
    "# Set axis labels\n",
    "ax.set_xlabel('Cross-Validation Scores')\n",
    "ax.set_ylabel('Models')\n",
    "\n",
    "# Show plot\n",
    "plt.show()"
   ]
  },
  {
   "cell_type": "code",
   "execution_count": 31,
   "metadata": {},
   "outputs": [
    {
     "data": {
      "text/html": [
       "<div>\n",
       "<style scoped>\n",
       "    .dataframe tbody tr th:only-of-type {\n",
       "        vertical-align: middle;\n",
       "    }\n",
       "\n",
       "    .dataframe tbody tr th {\n",
       "        vertical-align: top;\n",
       "    }\n",
       "\n",
       "    .dataframe thead th {\n",
       "        text-align: right;\n",
       "    }\n",
       "</style>\n",
       "<table border=\"1\" class=\"dataframe\">\n",
       "  <thead>\n",
       "    <tr style=\"text-align: right;\">\n",
       "      <th></th>\n",
       "      <th>0</th>\n",
       "      <th>cv_mean</th>\n",
       "    </tr>\n",
       "  </thead>\n",
       "  <tbody>\n",
       "    <tr>\n",
       "      <th>4</th>\n",
       "      <td>Random Forest</td>\n",
       "      <td>0.879464</td>\n",
       "    </tr>\n",
       "    <tr>\n",
       "      <th>5</th>\n",
       "      <td>Gradient Boosting Classifier</td>\n",
       "      <td>0.849774</td>\n",
       "    </tr>\n",
       "    <tr>\n",
       "      <th>7</th>\n",
       "      <td>Extreme Gradient Boosting</td>\n",
       "      <td>0.844896</td>\n",
       "    </tr>\n",
       "    <tr>\n",
       "      <th>0</th>\n",
       "      <td>Naive Bayes</td>\n",
       "      <td>0.837459</td>\n",
       "    </tr>\n",
       "    <tr>\n",
       "      <th>2</th>\n",
       "      <td>SVM</td>\n",
       "      <td>0.837428</td>\n",
       "    </tr>\n",
       "    <tr>\n",
       "      <th>6</th>\n",
       "      <td>AdaBoost</td>\n",
       "      <td>0.830081</td>\n",
       "    </tr>\n",
       "    <tr>\n",
       "      <th>3</th>\n",
       "      <td>Decision Tree</td>\n",
       "      <td>0.795544</td>\n",
       "    </tr>\n",
       "    <tr>\n",
       "      <th>1</th>\n",
       "      <td>KNN</td>\n",
       "      <td>0.679886</td>\n",
       "    </tr>\n",
       "  </tbody>\n",
       "</table>\n",
       "</div>"
      ],
      "text/plain": [
       "                              0   cv_mean\n",
       "4                 Random Forest  0.879464\n",
       "5  Gradient Boosting Classifier  0.849774\n",
       "7     Extreme Gradient Boosting  0.844896\n",
       "0                   Naive Bayes  0.837459\n",
       "2                           SVM  0.837428\n",
       "6                      AdaBoost  0.830081\n",
       "3                 Decision Tree  0.795544\n",
       "1                           KNN  0.679886"
      ]
     },
     "execution_count": 31,
     "metadata": {},
     "output_type": "execute_result"
    }
   ],
   "source": [
    "# Create a list to store mean cross-validation scores\n",
    "cv_mean_data = [NB_cv_scores.mean(), KNN_cv_scores.mean(), SVM_cv_scores.mean(), DT_cv_scores.mean(), \n",
    "                RF_cv_scores.mean(), GBC_cv_scores.mean(), ADA_cv_scores.mean(), XGB_cv_scores.mean()]\n",
    "\n",
    "# Label\n",
    "model_name = ['Naive Bayes', 'KNN', 'SVM', 'Decision Tree', 'Random Forest', 'Gradient Boosting Classifier', 'AdaBoost', \n",
    "                'Extreme Gradient Boosting']\n",
    "\n",
    "# Create a dataframe to store cross-validation mean score\n",
    "cv_df = pd.DataFrame(data = model_name)\n",
    "\n",
    "cv_df['cv_mean'] = cv_mean_data\n",
    "\n",
    "cv_df.sort_values(by = 'cv_mean', ascending = False)"
   ]
  },
  {
   "cell_type": "markdown",
   "metadata": {},
   "source": [
    "# Part 2: Impact Case Study Quality Enhancement"
   ]
  },
  {
   "cell_type": "markdown",
   "metadata": {},
   "source": [
    "## 1. Get Data"
   ]
  },
  {
   "cell_type": "code",
   "execution_count": 32,
   "metadata": {},
   "outputs": [],
   "source": [
    "def data_merge_1(star, uoa):\n",
    "    \n",
    "    # # Load the All REF Results Dataset into a DataFrame\n",
    "    score_df = pd.read_csv(r\"REF-2021-results.csv\")\n",
    "    \n",
    "    # Filter the dataset to include only 'Impact' profiles with a rating of 100% in the specified column and UOA = Biological Sciences\n",
    "    impact_score_df = score_df[(score_df['Profile'] == 'Impact') & \n",
    "                               (score_df[star] == '100') &\n",
    "                                (score_df['Unit of assessment number'] == uoa)].reset_index(drop = True)\n",
    "    \n",
    "    # Remove unnecessary columns\n",
    "    impact_score_df.drop(columns = ['Multiple submission letter', 'Multiple submission name', 'Joint submission', 'FTE of submitted staff',\n",
    "                          'Total FTE of submitted staff for joint submission', '% of eligible staff submitted',\n",
    "                          \"Institution sort order\", 'Institution name', 'Main panel', 'Unit of assessment name'], inplace = True)\n",
    "    \n",
    "    # Rename columns for future merge\n",
    "    impact_score_df.rename(columns = {'Institution code (UKPRN)' : 'Institution UKPRN code'}, inplace = True)\n",
    "    \n",
    "    # Load the Impact Case Study Dataset into a DataFrame\n",
    "    paper_df = pd.read_csv(r'REF-2021-impactcase.csv')\n",
    "    \n",
    "    # Retain nessary columns\n",
    "    paper_df = paper_df[['Institution UKPRN code', 'Institution name', 'Main panel','Unit of assessment number',\n",
    "                     'Unit of assessment name', 'Title', '1. Summary of the impact', '2. Underpinning research', \n",
    "                     '3. References to the research', '4. Details of the impact', '5. Sources to corroborate the impact']]\n",
    "    \n",
    "    # Make sure column names for merging are string type\n",
    "    impact_score_df['Institution UKPRN code'] = impact_score_df['Institution UKPRN code'].astype('str')\n",
    "    paper_df['Institution UKPRN code'] = paper_df['Institution UKPRN code'].astype('str')\n",
    "    \n",
    "    # Merge 2 dataframes into a new one\n",
    "    newdf = paper_df.merge(impact_score_df, how = 'inner', on = ['Institution UKPRN code', 'Unit of assessment number']).reset_index(drop = True)\n",
    "    \n",
    "    # Keep necessary columns\n",
    "    newdf = newdf[['Institution name','Title', '1. Summary of the impact', '4. Details of the impact', star]]\n",
    "    \n",
    "    # Update the 'star' column to reflect the rating score\n",
    "    newdf[star] = star\n",
    "    \n",
    "    # Remove asterisk to create a category for each rating score\n",
    "    newdf[star] = newdf[star].str.replace('*', '', regex=False)\n",
    "    \n",
    "    # Rename the 'star' column to 'score'\n",
    "    newdf = newdf.rename(columns = {star : 'score'})\n",
    "    \n",
    "    return newdf"
   ]
  },
  {
   "cell_type": "code",
   "execution_count": 33,
   "metadata": {},
   "outputs": [
    {
     "name": "stdout",
     "output_type": "stream",
     "text": [
      "0\n",
      "2\n",
      "3\n",
      "0\n"
     ]
    }
   ],
   "source": [
    "bio_df1 = data_merge_1('1*', 5)\n",
    "bio_df2 = data_merge_1('2*', 5) # Get impact case studies with a rating of 2*\n",
    "bio_df3 = data_merge_1('3*', 5) # Get impact case studies with a rating of 3*\n",
    "bio_df4 = data_merge_1('4*', 5) # Get impact case studies with a rating of 4*\n",
    "\n",
    "# Check the length of each dataframe\n",
    "print(len(bio_df1))\n",
    "print(len(bio_df2))\n",
    "print(len(bio_df3))\n",
    "print(len(bio_df4))"
   ]
  },
  {
   "cell_type": "code",
   "execution_count": 34,
   "metadata": {
    "scrolled": true
   },
   "outputs": [
    {
     "data": {
      "text/html": [
       "<div>\n",
       "<style scoped>\n",
       "    .dataframe tbody tr th:only-of-type {\n",
       "        vertical-align: middle;\n",
       "    }\n",
       "\n",
       "    .dataframe tbody tr th {\n",
       "        vertical-align: top;\n",
       "    }\n",
       "\n",
       "    .dataframe thead th {\n",
       "        text-align: right;\n",
       "    }\n",
       "</style>\n",
       "<table border=\"1\" class=\"dataframe\">\n",
       "  <thead>\n",
       "    <tr style=\"text-align: right;\">\n",
       "      <th></th>\n",
       "      <th>Institution name</th>\n",
       "      <th>Title</th>\n",
       "      <th>1. Summary of the impact</th>\n",
       "      <th>4. Details of the impact</th>\n",
       "      <th>score</th>\n",
       "    </tr>\n",
       "  </thead>\n",
       "  <tbody>\n",
       "    <tr>\n",
       "      <th>0</th>\n",
       "      <td>University of Northampton, The</td>\n",
       "      <td>Changing the Media Narrative and Public Unders...</td>\n",
       "      <td>###  1. Summary of the impact \\n\\n Professor T...</td>\n",
       "      <td>###  4. Details of the impact \\n\\n **Kay’s** r...</td>\n",
       "      <td>2</td>\n",
       "    </tr>\n",
       "    <tr>\n",
       "      <th>1</th>\n",
       "      <td>University of Northampton, The</td>\n",
       "      <td>Improving rehabilitation and advances in inter...</td>\n",
       "      <td>###  1. Summary of the impact \\n\\n **Ribbans’*...</td>\n",
       "      <td>###  4. Details of the impact \\n\\n **Ribbans’*...</td>\n",
       "      <td>2</td>\n",
       "    </tr>\n",
       "    <tr>\n",
       "      <th>2</th>\n",
       "      <td>University of Glasgow</td>\n",
       "      <td>Commercialisation of a novel microRNA replacem...</td>\n",
       "      <td>1.  **Summary of the impact** \\n\\n Tendinopath...</td>\n",
       "      <td>1.  **Details of the impact** \\n\\n **A novel a...</td>\n",
       "      <td>3</td>\n",
       "    </tr>\n",
       "    <tr>\n",
       "      <th>3</th>\n",
       "      <td>University of Glasgow</td>\n",
       "      <td>Deciphering the underlying immunopathology of ...</td>\n",
       "      <td>**1. Summary of the impact** \\n\\n The autoimmu...</td>\n",
       "      <td>**4. Details of the impact** \\n\\n **Context** ...</td>\n",
       "      <td>3</td>\n",
       "    </tr>\n",
       "    <tr>\n",
       "      <th>4</th>\n",
       "      <td>University of Glasgow</td>\n",
       "      <td>Establishing Caldan Therapeutics Ltd: a spin-o...</td>\n",
       "      <td>**1. Summary of the impact** \\n\\n A UofG resea...</td>\n",
       "      <td>**4. Details of the impact** \\n\\n Research at ...</td>\n",
       "      <td>3</td>\n",
       "    </tr>\n",
       "  </tbody>\n",
       "</table>\n",
       "</div>"
      ],
      "text/plain": [
       "                 Institution name  \\\n",
       "0  University of Northampton, The   \n",
       "1  University of Northampton, The   \n",
       "2           University of Glasgow   \n",
       "3           University of Glasgow   \n",
       "4           University of Glasgow   \n",
       "\n",
       "                                               Title  \\\n",
       "0  Changing the Media Narrative and Public Unders...   \n",
       "1  Improving rehabilitation and advances in inter...   \n",
       "2  Commercialisation of a novel microRNA replacem...   \n",
       "3  Deciphering the underlying immunopathology of ...   \n",
       "4  Establishing Caldan Therapeutics Ltd: a spin-o...   \n",
       "\n",
       "                            1. Summary of the impact  \\\n",
       "0  ###  1. Summary of the impact \\n\\n Professor T...   \n",
       "1  ###  1. Summary of the impact \\n\\n **Ribbans’*...   \n",
       "2  1.  **Summary of the impact** \\n\\n Tendinopath...   \n",
       "3  **1. Summary of the impact** \\n\\n The autoimmu...   \n",
       "4  **1. Summary of the impact** \\n\\n A UofG resea...   \n",
       "\n",
       "                            4. Details of the impact score  \n",
       "0  ###  4. Details of the impact \\n\\n **Kay’s** r...     2  \n",
       "1  ###  4. Details of the impact \\n\\n **Ribbans’*...     2  \n",
       "2  1.  **Details of the impact** \\n\\n **A novel a...     3  \n",
       "3  **4. Details of the impact** \\n\\n **Context** ...     3  \n",
       "4  **4. Details of the impact** \\n\\n Research at ...     3  "
      ]
     },
     "execution_count": 34,
     "metadata": {},
     "output_type": "execute_result"
    }
   ],
   "source": [
    "# Combine the DataFrames df2 and df3 into a single DataFrame\n",
    "bio_df = pd.concat([bio_df1, bio_df2, bio_df3], ignore_index=True)\n",
    "\n",
    "bio_df"
   ]
  },
  {
   "cell_type": "code",
   "execution_count": 35,
   "metadata": {},
   "outputs": [
    {
     "data": {
      "text/html": [
       "<div>\n",
       "<style scoped>\n",
       "    .dataframe tbody tr th:only-of-type {\n",
       "        vertical-align: middle;\n",
       "    }\n",
       "\n",
       "    .dataframe tbody tr th {\n",
       "        vertical-align: top;\n",
       "    }\n",
       "\n",
       "    .dataframe thead th {\n",
       "        text-align: right;\n",
       "    }\n",
       "</style>\n",
       "<table border=\"1\" class=\"dataframe\">\n",
       "  <thead>\n",
       "    <tr style=\"text-align: right;\">\n",
       "      <th></th>\n",
       "      <th>Institution name</th>\n",
       "      <th>Title</th>\n",
       "      <th>1. Summary of the impact</th>\n",
       "      <th>4. Details of the impact</th>\n",
       "      <th>score</th>\n",
       "    </tr>\n",
       "  </thead>\n",
       "  <tbody>\n",
       "    <tr>\n",
       "      <th>1</th>\n",
       "      <td>University of Northampton, The</td>\n",
       "      <td>Improving rehabilitation and advances in inter...</td>\n",
       "      <td>###  1. Summary of the impact \\n\\n **Ribbans’*...</td>\n",
       "      <td>###  4. Details of the impact \\n\\n **Ribbans’*...</td>\n",
       "      <td>2</td>\n",
       "    </tr>\n",
       "    <tr>\n",
       "      <th>3</th>\n",
       "      <td>University of Glasgow</td>\n",
       "      <td>Deciphering the underlying immunopathology of ...</td>\n",
       "      <td>**1. Summary of the impact** \\n\\n The autoimmu...</td>\n",
       "      <td>**4. Details of the impact** \\n\\n **Context** ...</td>\n",
       "      <td>3</td>\n",
       "    </tr>\n",
       "    <tr>\n",
       "      <th>4</th>\n",
       "      <td>University of Glasgow</td>\n",
       "      <td>Establishing Caldan Therapeutics Ltd: a spin-o...</td>\n",
       "      <td>**1. Summary of the impact** \\n\\n A UofG resea...</td>\n",
       "      <td>**4. Details of the impact** \\n\\n Research at ...</td>\n",
       "      <td>3</td>\n",
       "    </tr>\n",
       "  </tbody>\n",
       "</table>\n",
       "</div>"
      ],
      "text/plain": [
       "                 Institution name  \\\n",
       "1  University of Northampton, The   \n",
       "3           University of Glasgow   \n",
       "4           University of Glasgow   \n",
       "\n",
       "                                               Title  \\\n",
       "1  Improving rehabilitation and advances in inter...   \n",
       "3  Deciphering the underlying immunopathology of ...   \n",
       "4  Establishing Caldan Therapeutics Ltd: a spin-o...   \n",
       "\n",
       "                            1. Summary of the impact  \\\n",
       "1  ###  1. Summary of the impact \\n\\n **Ribbans’*...   \n",
       "3  **1. Summary of the impact** \\n\\n The autoimmu...   \n",
       "4  **1. Summary of the impact** \\n\\n A UofG resea...   \n",
       "\n",
       "                            4. Details of the impact score  \n",
       "1  ###  4. Details of the impact \\n\\n **Ribbans’*...     2  \n",
       "3  **4. Details of the impact** \\n\\n **Context** ...     3  \n",
       "4  **4. Details of the impact** \\n\\n Research at ...     3  "
      ]
     },
     "execution_count": 35,
     "metadata": {},
     "output_type": "execute_result"
    }
   ],
   "source": [
    "# Choose 2 random examples\n",
    "\n",
    "bio_df.sample(3, random_state=2024)"
   ]
  },
  {
   "cell_type": "code",
   "execution_count": 36,
   "metadata": {},
   "outputs": [
    {
     "data": {
      "text/html": [
       "<div>\n",
       "<style scoped>\n",
       "    .dataframe tbody tr th:only-of-type {\n",
       "        vertical-align: middle;\n",
       "    }\n",
       "\n",
       "    .dataframe tbody tr th {\n",
       "        vertical-align: top;\n",
       "    }\n",
       "\n",
       "    .dataframe thead th {\n",
       "        text-align: right;\n",
       "    }\n",
       "</style>\n",
       "<table border=\"1\" class=\"dataframe\">\n",
       "  <thead>\n",
       "    <tr style=\"text-align: right;\">\n",
       "      <th></th>\n",
       "      <th>Institution name</th>\n",
       "      <th>Title</th>\n",
       "      <th>1. Summary of the impact</th>\n",
       "      <th>4. Details of the impact</th>\n",
       "      <th>score</th>\n",
       "    </tr>\n",
       "  </thead>\n",
       "  <tbody>\n",
       "    <tr>\n",
       "      <th>18</th>\n",
       "      <td>Birkbeck College</td>\n",
       "      <td>The impact of Interpretative Phenomenological ...</td>\n",
       "      <td>###  1. Summary of the impact \\(indicative max...</td>\n",
       "      <td>###  4. Details of the impact \\(indicative max...</td>\n",
       "      <td>4</td>\n",
       "    </tr>\n",
       "  </tbody>\n",
       "</table>\n",
       "</div>"
      ],
      "text/plain": [
       "    Institution name                                              Title  \\\n",
       "18  Birkbeck College  The impact of Interpretative Phenomenological ...   \n",
       "\n",
       "                             1. Summary of the impact  \\\n",
       "18  ###  1. Summary of the impact \\(indicative max...   \n",
       "\n",
       "                             4. Details of the impact score  \n",
       "18  ###  4. Details of the impact \\(indicative max...     4  "
      ]
     },
     "execution_count": 36,
     "metadata": {},
     "output_type": "execute_result"
    }
   ],
   "source": [
    "# Choose a random 4* sample for one-shot learning\n",
    "\n",
    "neuro_df4 = data_merge_1('4*', 4)\n",
    "\n",
    "neuro_df4.sample(1, random_state = 2024)"
   ]
  },
  {
   "cell_type": "markdown",
   "metadata": {},
   "source": [
    "## 2. Load new file"
   ]
  },
  {
   "cell_type": "code",
   "execution_count": 37,
   "metadata": {},
   "outputs": [
    {
     "data": {
      "text/html": [
       "<div>\n",
       "<style scoped>\n",
       "    .dataframe tbody tr th:only-of-type {\n",
       "        vertical-align: middle;\n",
       "    }\n",
       "\n",
       "    .dataframe tbody tr th {\n",
       "        vertical-align: top;\n",
       "    }\n",
       "\n",
       "    .dataframe thead th {\n",
       "        text-align: right;\n",
       "    }\n",
       "</style>\n",
       "<table border=\"1\" class=\"dataframe\">\n",
       "  <thead>\n",
       "    <tr style=\"text-align: right;\">\n",
       "      <th></th>\n",
       "      <th>Title</th>\n",
       "      <th>1. Summary of the impact</th>\n",
       "      <th>4. Details of the impact</th>\n",
       "      <th>score</th>\n",
       "    </tr>\n",
       "  </thead>\n",
       "  <tbody>\n",
       "    <tr>\n",
       "      <th>0</th>\n",
       "      <td>Revolutionizing Ankle Ligament Repair: The Glo...</td>\n",
       "      <td>Professor Ribbans' pioneering clinical practic...</td>\n",
       "      <td>Ribbans' research has had a substantial and wi...</td>\n",
       "      <td>3</td>\n",
       "    </tr>\n",
       "    <tr>\n",
       "      <th>1</th>\n",
       "      <td>Deciphering the underlying immunopathology of ...</td>\n",
       "      <td>Guillain–Barré syndrome (GBS) is the most freq...</td>\n",
       "      <td>Context\\nGBS affects 1.1–1.8 people per 100,00...</td>\n",
       "      <td>2</td>\n",
       "    </tr>\n",
       "    <tr>\n",
       "      <th>2</th>\n",
       "      <td>Establishing Caldan Therapeutics Ltd: Pioneeri...</td>\n",
       "      <td>Groundbreaking research at the University of G...</td>\n",
       "      <td>The UofG research has generated two significan...</td>\n",
       "      <td>2</td>\n",
       "    </tr>\n",
       "  </tbody>\n",
       "</table>\n",
       "</div>"
      ],
      "text/plain": [
       "                                               Title  \\\n",
       "0  Revolutionizing Ankle Ligament Repair: The Glo...   \n",
       "1  Deciphering the underlying immunopathology of ...   \n",
       "2  Establishing Caldan Therapeutics Ltd: Pioneeri...   \n",
       "\n",
       "                            1. Summary of the impact  \\\n",
       "0  Professor Ribbans' pioneering clinical practic...   \n",
       "1  Guillain–Barré syndrome (GBS) is the most freq...   \n",
       "2  Groundbreaking research at the University of G...   \n",
       "\n",
       "                            4. Details of the impact  score  \n",
       "0  Ribbans' research has had a substantial and wi...      3  \n",
       "1  Context\\nGBS affects 1.1–1.8 people per 100,00...      2  \n",
       "2  The UofG research has generated two significan...      2  "
      ]
     },
     "execution_count": 37,
     "metadata": {},
     "output_type": "execute_result"
    }
   ],
   "source": [
    "claude_df = pd.read_csv('Revised_impact_case_Claude-1.csv')\n",
    "\n",
    "claude_df"
   ]
  },
  {
   "cell_type": "markdown",
   "metadata": {},
   "source": [
    "## 3. Data Preprocessing"
   ]
  },
  {
   "cell_type": "code",
   "execution_count": 38,
   "metadata": {},
   "outputs": [
    {
     "data": {
      "text/html": [
       "<div>\n",
       "<style scoped>\n",
       "    .dataframe tbody tr th:only-of-type {\n",
       "        vertical-align: middle;\n",
       "    }\n",
       "\n",
       "    .dataframe tbody tr th {\n",
       "        vertical-align: top;\n",
       "    }\n",
       "\n",
       "    .dataframe thead th {\n",
       "        text-align: right;\n",
       "    }\n",
       "</style>\n",
       "<table border=\"1\" class=\"dataframe\">\n",
       "  <thead>\n",
       "    <tr style=\"text-align: right;\">\n",
       "      <th></th>\n",
       "      <th>Title</th>\n",
       "      <th>1. Summary of the impact</th>\n",
       "      <th>4. Details of the impact</th>\n",
       "      <th>score</th>\n",
       "    </tr>\n",
       "  </thead>\n",
       "  <tbody>\n",
       "    <tr>\n",
       "      <th>0</th>\n",
       "      <td>Revolutionizing Ankle Ligament Repair: The Glo...</td>\n",
       "      <td>Professor Ribbans' pioneering clinical practic...</td>\n",
       "      <td>Ribbans' research has had a substantial and wi...</td>\n",
       "      <td>0</td>\n",
       "    </tr>\n",
       "    <tr>\n",
       "      <th>1</th>\n",
       "      <td>Deciphering the underlying immunopathology of ...</td>\n",
       "      <td>Guillain–Barré syndrome (GBS) is the most freq...</td>\n",
       "      <td>Context\\nGBS affects 1.1–1.8 people per 100,00...</td>\n",
       "      <td>0</td>\n",
       "    </tr>\n",
       "    <tr>\n",
       "      <th>2</th>\n",
       "      <td>Establishing Caldan Therapeutics Ltd: Pioneeri...</td>\n",
       "      <td>Groundbreaking research at the University of G...</td>\n",
       "      <td>The UofG research has generated two significan...</td>\n",
       "      <td>0</td>\n",
       "    </tr>\n",
       "  </tbody>\n",
       "</table>\n",
       "</div>"
      ],
      "text/plain": [
       "                                               Title  \\\n",
       "0  Revolutionizing Ankle Ligament Repair: The Glo...   \n",
       "1  Deciphering the underlying immunopathology of ...   \n",
       "2  Establishing Caldan Therapeutics Ltd: Pioneeri...   \n",
       "\n",
       "                            1. Summary of the impact  \\\n",
       "0  Professor Ribbans' pioneering clinical practic...   \n",
       "1  Guillain–Barré syndrome (GBS) is the most freq...   \n",
       "2  Groundbreaking research at the University of G...   \n",
       "\n",
       "                            4. Details of the impact  score  \n",
       "0  Ribbans' research has had a substantial and wi...      0  \n",
       "1  Context\\nGBS affects 1.1–1.8 people per 100,00...      0  \n",
       "2  The UofG research has generated two significan...      0  "
      ]
     },
     "execution_count": 38,
     "metadata": {},
     "output_type": "execute_result"
    }
   ],
   "source": [
    "# Category labeling\n",
    "\n",
    "claude_df.loc[(claude_df['score'] == 2) | (claude_df['score'] == 3), \"score\"] = 0\n",
    "\n",
    "claude_df.loc[claude_df['score'] == 4, \"score\"] = 1\n",
    "\n",
    "# Display the first 5 rows\n",
    "claude_df"
   ]
  },
  {
   "cell_type": "code",
   "execution_count": 39,
   "metadata": {},
   "outputs": [],
   "source": [
    "# Using the clean_text function\n",
    "revised_title_cleaned = clean_text(claude_df['Title'])\n",
    "\n",
    "revised_summary_cleaned = clean_text(claude_df['1. Summary of the impact'])\n",
    "\n",
    "revised_detail_cleaned = clean_text(claude_df['4. Details of the impact'])"
   ]
  },
  {
   "cell_type": "code",
   "execution_count": 40,
   "metadata": {},
   "outputs": [],
   "source": [
    "# Applying the word_tokenize function\n",
    "revised_title_tokenized = word_tokenize(revised_title_cleaned)\n",
    "\n",
    "revised_summary_tokenized = word_tokenize(revised_summary_cleaned)\n",
    "\n",
    "revised_detail_tokenized = word_tokenize(revised_detail_cleaned)"
   ]
  },
  {
   "cell_type": "code",
   "execution_count": 41,
   "metadata": {},
   "outputs": [],
   "source": [
    "# Applying the word_join function\n",
    "\n",
    "revised_title = word_join(revised_title_tokenized)\n",
    "\n",
    "revised_summary = word_join(revised_summary_tokenized)\n",
    "\n",
    "revised_detail = word_join (revised_detail_tokenized)"
   ]
  },
  {
   "cell_type": "code",
   "execution_count": 42,
   "metadata": {},
   "outputs": [
    {
     "data": {
      "text/html": [
       "<div>\n",
       "<style scoped>\n",
       "    .dataframe tbody tr th:only-of-type {\n",
       "        vertical-align: middle;\n",
       "    }\n",
       "\n",
       "    .dataframe tbody tr th {\n",
       "        vertical-align: top;\n",
       "    }\n",
       "\n",
       "    .dataframe thead th {\n",
       "        text-align: right;\n",
       "    }\n",
       "</style>\n",
       "<table border=\"1\" class=\"dataframe\">\n",
       "  <thead>\n",
       "    <tr style=\"text-align: right;\">\n",
       "      <th></th>\n",
       "      <th>revised_title</th>\n",
       "      <th>revised_summary</th>\n",
       "      <th>revised_detail</th>\n",
       "      <th>paper</th>\n",
       "      <th>score</th>\n",
       "    </tr>\n",
       "  </thead>\n",
       "  <tbody>\n",
       "    <tr>\n",
       "      <th>0</th>\n",
       "      <td>revolutionize ankle ligament repair the global...</td>\n",
       "      <td>professor ribban pioneer clinical practice and...</td>\n",
       "      <td>ribban research have have a substantial and wi...</td>\n",
       "      <td>revolutionize ankle ligament repair the global...</td>\n",
       "      <td>0</td>\n",
       "    </tr>\n",
       "    <tr>\n",
       "      <th>1</th>\n",
       "      <td>decipher the underlie immunopathology of guill...</td>\n",
       "      <td>guillain – barré syndrome gbs be the most freq...</td>\n",
       "      <td>contextgbs affect 11–18 people per 100,000 ann...</td>\n",
       "      <td>decipher the underlie immunopathology of guill...</td>\n",
       "      <td>0</td>\n",
       "    </tr>\n",
       "    <tr>\n",
       "      <th>2</th>\n",
       "      <td>establish caldan therapeutics ltd pioneer free...</td>\n",
       "      <td>groundbreake research at the university of gla...</td>\n",
       "      <td>the uofg research have generate two significan...</td>\n",
       "      <td>establish caldan therapeutics ltd pioneer free...</td>\n",
       "      <td>0</td>\n",
       "    </tr>\n",
       "  </tbody>\n",
       "</table>\n",
       "</div>"
      ],
      "text/plain": [
       "                                       revised_title  \\\n",
       "0  revolutionize ankle ligament repair the global...   \n",
       "1  decipher the underlie immunopathology of guill...   \n",
       "2  establish caldan therapeutics ltd pioneer free...   \n",
       "\n",
       "                                     revised_summary  \\\n",
       "0  professor ribban pioneer clinical practice and...   \n",
       "1  guillain – barré syndrome gbs be the most freq...   \n",
       "2  groundbreake research at the university of gla...   \n",
       "\n",
       "                                      revised_detail  \\\n",
       "0  ribban research have have a substantial and wi...   \n",
       "1  contextgbs affect 11–18 people per 100,000 ann...   \n",
       "2  the uofg research have generate two significan...   \n",
       "\n",
       "                                               paper  score  \n",
       "0  revolutionize ankle ligament repair the global...      0  \n",
       "1  decipher the underlie immunopathology of guill...      0  \n",
       "2  establish caldan therapeutics ltd pioneer free...      0  "
      ]
     },
     "execution_count": 42,
     "metadata": {},
     "output_type": "execute_result"
    }
   ],
   "source": [
    "# Create a new DataFrame from the revised_title data\n",
    "\n",
    "revised_df = pd.DataFrame(data = revised_title)\n",
    "\n",
    "# Rename the column to 'title'\n",
    "revised_df.columns = ['revised_title']\n",
    "\n",
    "# Add the summary text as a new column\n",
    "revised_df['revised_summary'] = revised_summary\n",
    "\n",
    "# Add the detail text as a new column\n",
    "revised_df['revised_detail'] = revised_detail\n",
    "\n",
    "# Combine title, summary, and detail into a single column 'paper'\n",
    "revised_df['paper'] = revised_df['revised_title']+ \" \" + revised_df['revised_summary'] + \" \" + revised_df['revised_detail']\n",
    "\n",
    "# Add the score column from the original DataFrame\n",
    "revised_df['score'] = claude_df['score']\n",
    "\n",
    "# Display the DataFrame\n",
    "revised_df"
   ]
  },
  {
   "cell_type": "code",
   "execution_count": 43,
   "metadata": {},
   "outputs": [],
   "source": [
    "# Convert to list\n",
    "revised_paper_data = revised_df['paper'].tolist()\n",
    "\n",
    "revised_score_data = revised_df['score'].tolist()"
   ]
  },
  {
   "cell_type": "code",
   "execution_count": 44,
   "metadata": {},
   "outputs": [],
   "source": [
    "# Vectorization\n",
    "revised_X_test = vectorizer.transform(revised_paper_data)\n",
    "\n",
    "revised_X_test_dense = revised_X_test.toarray()"
   ]
  },
  {
   "cell_type": "markdown",
   "metadata": {},
   "source": [
    "## 4. SVM Model Prediction"
   ]
  },
  {
   "cell_type": "code",
   "execution_count": 45,
   "metadata": {},
   "outputs": [
    {
     "name": "stdout",
     "output_type": "stream",
     "text": [
      "\n",
      "Prediction:\n",
      "\n",
      "Predicted: [0, 0, 0]\n",
      "Ground truth: [0, 0, 0]\n"
     ]
    }
   ],
   "source": [
    "SVM_revised_prediction = SVM_model.predict(revised_X_test_dense)\n",
    "\n",
    "print(f\"\\nPrediction:\\n\")\n",
    "print(\"Predicted:\",SVM_revised_prediction.tolist()) # Print the first 10 predictions\n",
    "print(\"Ground truth:\",revised_score_data)"
   ]
  }
 ],
 "metadata": {
  "kernelspec": {
   "display_name": "local-venv",
   "language": "python",
   "name": "local-venv"
  },
  "language_info": {
   "codemirror_mode": {
    "name": "ipython",
    "version": 3
   },
   "file_extension": ".py",
   "mimetype": "text/x-python",
   "name": "python",
   "nbconvert_exporter": "python",
   "pygments_lexer": "ipython3",
   "version": "3.8.10"
  }
 },
 "nbformat": 4,
 "nbformat_minor": 5
}
